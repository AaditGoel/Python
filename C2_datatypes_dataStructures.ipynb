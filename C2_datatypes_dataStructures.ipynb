{
  "nbformat": 4,
  "nbformat_minor": 0,
  "metadata": {
    "colab": {
      "name": "C2_datatypes-dataStructures.ipynb",
      "provenance": [],
      "collapsed_sections": [],
      "authorship_tag": "ABX9TyNLadg7aBr5bDQ6hQDNuF6d",
      "include_colab_link": true
    },
    "kernelspec": {
      "name": "python3",
      "display_name": "Python 3"
    },
    "language_info": {
      "name": "python"
    }
  },
  "cells": [
    {
      "cell_type": "markdown",
      "metadata": {
        "id": "view-in-github",
        "colab_type": "text"
      },
      "source": [
        "<a href=\"https://colab.research.google.com/github/AaditGoel/Python/blob/main/C2_datatypes_dataStructures.ipynb\" target=\"_parent\"><img src=\"https://colab.research.google.com/assets/colab-badge.svg\" alt=\"Open In Colab\"/></a>"
      ]
    },
    {
      "cell_type": "code",
      "execution_count": null,
      "metadata": {
        "colab": {
          "base_uri": "https://localhost:8080/"
        },
        "id": "e_r5w3EtmcvB",
        "outputId": "d55d377e-45c9-4d41-8486-73428da1cafe"
      },
      "outputs": [
        {
          "output_type": "stream",
          "name": "stdout",
          "text": [
            "Enter the intial fare:120\n",
            "Enter the discout:5\n",
            "The discounted fare to be paid: 114.0\n"
          ]
        }
      ],
      "source": [
        "# If a bus fare is x and you have a student discount of y%. Find the fare to be paid to conductor\n",
        "x = float(input('Enter the intial fare:'))\n",
        "y=float(input('Enter the discout:'))\n",
        "d_fare=(x-((y*x)/100))\n",
        "print('The discounted fare to be paid:',d_fare)\n"
      ]
    },
    {
      "cell_type": "markdown",
      "source": [
        "***Arithematic Operators***\n",
        "Addition(+)\n",
        "Subtraction(-)\n",
        "Multiplication(*)\n",
        "Mod(%)\n",
        "Divison(/)\n",
        "To the power of(**)\n",
        "floor division(//)"
      ],
      "metadata": {
        "id": "CKbQZMSgwSEd"
      }
    },
    {
      "cell_type": "markdown",
      "source": [
        "Python has two different division operands ..... / produces a float and // is integer division( it produces integer)"
      ],
      "metadata": {
        "id": "t6dvaZP1xKJ1"
      }
    },
    {
      "cell_type": "code",
      "source": [
        "8//5"
      ],
      "metadata": {
        "colab": {
          "base_uri": "https://localhost:8080/"
        },
        "id": "SVNZbfhNxaad",
        "outputId": "3cc9c3f9-6d44-4ea4-d5bd-18d9db72b019"
      },
      "execution_count": null,
      "outputs": [
        {
          "output_type": "execute_result",
          "data": {
            "text/plain": [
              "1"
            ]
          },
          "metadata": {},
          "execution_count": 3
        }
      ]
    },
    {
      "cell_type": "code",
      "source": [
        "1000//3\n"
      ],
      "metadata": {
        "colab": {
          "base_uri": "https://localhost:8080/"
        },
        "id": "hu1AOFUMxeN-",
        "outputId": "0093d3ce-c07b-44fb-a2ea-eb480d952dca"
      },
      "execution_count": null,
      "outputs": [
        {
          "output_type": "execute_result",
          "data": {
            "text/plain": [
              "333"
            ]
          },
          "metadata": {},
          "execution_count": 5
        }
      ]
    },
    {
      "cell_type": "code",
      "source": [
        "1000/3"
      ],
      "metadata": {
        "colab": {
          "base_uri": "https://localhost:8080/"
        },
        "id": "5eBZTf7gxkqJ",
        "outputId": "214015c3-c684-4c40-b49d-a1938ab6626a"
      },
      "execution_count": null,
      "outputs": [
        {
          "output_type": "execute_result",
          "data": {
            "text/plain": [
              "333.3333333333333"
            ]
          },
          "metadata": {},
          "execution_count": 4
        }
      ]
    },
    {
      "cell_type": "markdown",
      "source": [
        "Operator order precedence\n",
        "1. **\n",
        "2. -(negation)\n",
        "3. *,/,//,%(left to right)\n",
        "4. +(addition), -(subtraction){left to right}\n",
        "\n",
        "ALSO CALLED AS PEMDAS RULE LIKE BODMAS ***bold text***"
      ],
      "metadata": {
        "id": "LRRRIr14zXnD"
      }
    },
    {
      "cell_type": "code",
      "source": [
        "5**2 * 6 + 100 - 200"
      ],
      "metadata": {
        "colab": {
          "base_uri": "https://localhost:8080/"
        },
        "id": "yJWrugilzyn2",
        "outputId": "2af8fa8a-1ae7-4c9b-a57f-652190fe9758"
      },
      "execution_count": 6,
      "outputs": [
        {
          "output_type": "execute_result",
          "data": {
            "text/plain": [
              "50"
            ]
          },
          "metadata": {},
          "execution_count": 6
        }
      ]
    },
    {
      "cell_type": "code",
      "source": [
        "# Q1) A patient just turned 95 years old . calculate the age in days.\n",
        "print('The age of patient in days:',95*365)"
      ],
      "metadata": {
        "colab": {
          "base_uri": "https://localhost:8080/"
        },
        "id": "JCA03hj903XR",
        "outputId": "c78817d7-9348-431b-a810-19ff18bed531"
      },
      "execution_count": 7,
      "outputs": [
        {
          "output_type": "stream",
          "name": "stdout",
          "text": [
            "The age of patient in days: 34675\n"
          ]
        }
      ]
    },
    {
      "cell_type": "code",
      "source": [
        "#A father reports his son temperature to be 39.1 degree celsius when measured at home. Write an expression to covert it into farehnhite \n",
        "print('The temperature in farenhite:',((9*39.1)/5)+32)"
      ],
      "metadata": {
        "colab": {
          "base_uri": "https://localhost:8080/"
        },
        "id": "P2YpZLVF1Q_H",
        "outputId": "f74f0bd3-fc4d-44da-bb7e-39e19f016871"
      },
      "execution_count": 9,
      "outputs": [
        {
          "output_type": "stream",
          "name": "stdout",
          "text": [
            "The temperature in farenhite: 102.38000000000001\n"
          ]
        }
      ]
    },
    {
      "cell_type": "markdown",
      "source": [
        "### Simplifying arithematic operations\n",
        "\n",
        "round() is a function that rounds the input value to a specified number or to the nearest integer"
      ],
      "metadata": {
        "id": "zdAQnGeK1_hh"
      }
    },
    {
      "cell_type": "code",
      "source": [
        "print(round(10.627389))\n",
        "print(round(115.73848,2))"
      ],
      "metadata": {
        "colab": {
          "base_uri": "https://localhost:8080/"
        },
        "id": "woz2oAdr2P5H",
        "outputId": "6966723e-9826-4b0f-be46-02c62c763006"
      },
      "execution_count": 10,
      "outputs": [
        {
          "output_type": "stream",
          "name": "stdout",
          "text": [
            "11\n",
            "115.74\n"
          ]
        }
      ]
    },
    {
      "cell_type": "markdown",
      "source": [
        "complex() is used to define a complex number and abs() outputs the absolute value of the same\n"
      ],
      "metadata": {
        "id": "XdxYy7YG2sht"
      }
    },
    {
      "cell_type": "code",
      "source": [
        "c = 15 + 2j\n",
        "type(c), abs(c)"
      ],
      "metadata": {
        "colab": {
          "base_uri": "https://localhost:8080/"
        },
        "id": "HvkalVBe22mJ",
        "outputId": "bfb77a39-a350-4a09-e0a7-ae06d4c9aa9f"
      },
      "execution_count": 11,
      "outputs": [
        {
          "output_type": "execute_result",
          "data": {
            "text/plain": [
              "(complex, 15.132745950421556)"
            ]
          },
          "metadata": {},
          "execution_count": 11
        }
      ]
    },
    {
      "cell_type": "code",
      "source": [
        "c = complex('5+2j')\n",
        "print(abs(c))\n",
        "print(c)\n",
        "print(round(abs(c),3))"
      ],
      "metadata": {
        "colab": {
          "base_uri": "https://localhost:8080/"
        },
        "id": "QY6xLZ3e3DRz",
        "outputId": "31b6e624-9cdb-4b9f-f2d9-420abf196511"
      },
      "execution_count": 14,
      "outputs": [
        {
          "output_type": "stream",
          "name": "stdout",
          "text": [
            "5.385164807134504\n",
            "(5+2j)\n",
            "5.385\n"
          ]
        }
      ]
    },
    {
      "cell_type": "markdown",
      "source": [
        "divmod() outputs the quotient and remainder in a tuple in the forom of (quotient,remainder)"
      ],
      "metadata": {
        "id": "5QhU463H34L2"
      }
    },
    {
      "cell_type": "code",
      "source": [
        "divmod(9,2) #......> gives the quotient and remainder when 9 is divided by 2"
      ],
      "metadata": {
        "colab": {
          "base_uri": "https://localhost:8080/"
        },
        "id": "7qLto5cs4F_3",
        "outputId": "4fed11ce-f4b0-453e-8211-d939c2d34f5c"
      },
      "execution_count": 15,
      "outputs": [
        {
          "output_type": "execute_result",
          "data": {
            "text/plain": [
              "(4, 1)"
            ]
          },
          "metadata": {},
          "execution_count": 15
        }
      ]
    },
    {
      "cell_type": "markdown",
      "source": [
        "pow(x,y,z) gives us the x^y value, also givs=es the mod of this value w.r.t a specified number z"
      ],
      "metadata": {
        "id": "I6C-1fM44h9i"
      }
    },
    {
      "cell_type": "code",
      "source": [
        "print(pow(2,3))"
      ],
      "metadata": {
        "colab": {
          "base_uri": "https://localhost:8080/"
        },
        "id": "Y149pbz54f5C",
        "outputId": "e5f58063-ebd5-4fd9-eeb5-d60596d369b6"
      },
      "execution_count": 16,
      "outputs": [
        {
          "output_type": "stream",
          "name": "stdout",
          "text": [
            "8\n"
          ]
        }
      ]
    },
    {
      "cell_type": "code",
      "source": [
        "pow(2,3,5) #remainder when 2 is raised to power 3 and divvided by 5"
      ],
      "metadata": {
        "colab": {
          "base_uri": "https://localhost:8080/"
        },
        "id": "SeS-1Msq4vS3",
        "outputId": "d9a14310-ca2f-4fce-cb47-77ed41203a50"
      },
      "execution_count": 17,
      "outputs": [
        {
          "output_type": "execute_result",
          "data": {
            "text/plain": [
              "3"
            ]
          },
          "metadata": {},
          "execution_count": 17
        }
      ]
    },
    {
      "cell_type": "markdown",
      "source": [
        "Just like in C++ , the assignment operators are the same.....+=....> x=x+()"
      ],
      "metadata": {
        "id": "YgNsJ8-V5K7S"
      }
    },
    {
      "cell_type": "code",
      "source": [
        "x =10\n",
        "x+=7\n",
        "x"
      ],
      "metadata": {
        "colab": {
          "base_uri": "https://localhost:8080/"
        },
        "id": "K0l6jBEd5SO6",
        "outputId": "f5b7b0f6-00b4-4988-c4ee-fadaddbd154b"
      },
      "execution_count": 20,
      "outputs": [
        {
          "output_type": "execute_result",
          "data": {
            "text/plain": [
              "17"
            ]
          },
          "metadata": {},
          "execution_count": 20
        }
      ]
    },
    {
      "cell_type": "markdown",
      "source": [
        "**COMPARISON OPERATORS**\n",
        "These operators will allow us to compare the variables and return the boolean value\n",
        "The operators are:==,>,<,<=,>=,!=\n"
      ],
      "metadata": {
        "id": "3YpOQcNZ52N6"
      }
    },
    {
      "cell_type": "code",
      "source": [
        "50 != 2"
      ],
      "metadata": {
        "colab": {
          "base_uri": "https://localhost:8080/"
        },
        "id": "3IIgtjoY6JYw",
        "outputId": "6d322117-811b-4c35-9cbe-ec195d6fafce"
      },
      "execution_count": 21,
      "outputs": [
        {
          "output_type": "execute_result",
          "data": {
            "text/plain": [
              "True"
            ]
          },
          "metadata": {},
          "execution_count": 21
        }
      ]
    },
    {
      "cell_type": "code",
      "source": [
        "x=5\n",
        "y=10\n",
        "x==y\n"
      ],
      "metadata": {
        "colab": {
          "base_uri": "https://localhost:8080/"
        },
        "id": "1Gp5biGU6YPa",
        "outputId": "fa8e6e4f-e963-41e4-d9bd-0028e6c3169e"
      },
      "execution_count": 22,
      "outputs": [
        {
          "output_type": "execute_result",
          "data": {
            "text/plain": [
              "False"
            ]
          },
          "metadata": {},
          "execution_count": 22
        }
      ]
    },
    {
      "cell_type": "markdown",
      "source": [
        "== is a comparison operator while = is an ssignment operator"
      ],
      "metadata": {
        "id": "Invsa-ya7AAf"
      }
    },
    {
      "cell_type": "code",
      "source": [
        "1<2<3"
      ],
      "metadata": {
        "colab": {
          "base_uri": "https://localhost:8080/"
        },
        "id": "7WvYYhii7FDg",
        "outputId": "890c4046-a58b-4c21-8a1c-92dd90540c80"
      },
      "execution_count": 23,
      "outputs": [
        {
          "output_type": "execute_result",
          "data": {
            "text/plain": [
              "True"
            ]
          },
          "metadata": {},
          "execution_count": 23
        }
      ]
    },
    {
      "cell_type": "markdown",
      "source": [
        "The above statement checks that if 1 was less than 2 **and** if 2 was less than 3. We could have written this using **and** statement in python"
      ],
      "metadata": {
        "id": "n4ah1Iry7M_A"
      }
    },
    {
      "cell_type": "markdown",
      "source": [
        "Logical operators ....> and , or, not are used to combine conditional statements"
      ],
      "metadata": {
        "id": "VeUur9nn8BC_"
      }
    },
    {
      "cell_type": "code",
      "source": [
        "x=2\n",
        "#x<5 and x>1\n",
        "x<1 or x>=2"
      ],
      "metadata": {
        "colab": {
          "base_uri": "https://localhost:8080/"
        },
        "id": "hwWMsGUt8IU7",
        "outputId": "c3c9ace6-2840-4ca5-cdf2-fccf4b162312"
      },
      "execution_count": 26,
      "outputs": [
        {
          "output_type": "execute_result",
          "data": {
            "text/plain": [
              "True"
            ]
          },
          "metadata": {},
          "execution_count": 26
        }
      ]
    },
    {
      "cell_type": "code",
      "source": [
        "not(2<5)#reverse the result"
      ],
      "metadata": {
        "colab": {
          "base_uri": "https://localhost:8080/"
        },
        "id": "oZItclT19H5q",
        "outputId": "173a1f27-8bcd-4aa2-bfef-46051e30758e"
      },
      "execution_count": 28,
      "outputs": [
        {
          "output_type": "execute_result",
          "data": {
            "text/plain": [
              "False"
            ]
          },
          "metadata": {},
          "execution_count": 28
        }
      ]
    },
    {
      "cell_type": "markdown",
      "source": [
        "***BITWISE OPERATORS***: &,^,|,>>,<<,~"
      ],
      "metadata": {
        "id": "WQdZ5n0P86v1"
      }
    },
    {
      "cell_type": "code",
      "source": [
        "a=2\n",
        "b=3\n",
        "print(a & b)\n",
        "print(bin(a&b)) #bin means in binary\n"
      ],
      "metadata": {
        "colab": {
          "base_uri": "https://localhost:8080/"
        },
        "id": "Xrrrh9ST9NAF",
        "outputId": "3c6b3dbb-13ce-460e-9bf3-a5b41aefe34f"
      },
      "execution_count": 31,
      "outputs": [
        {
          "output_type": "stream",
          "name": "stdout",
          "text": [
            "2\n",
            "0b10\n"
          ]
        }
      ]
    },
    {
      "cell_type": "code",
      "source": [
        "5 >> 1"
      ],
      "metadata": {
        "colab": {
          "base_uri": "https://localhost:8080/"
        },
        "id": "uI8bU37993s9",
        "outputId": "6c11ffc5-15b0-49a0-d7bf-1188258f0459"
      },
      "execution_count": 32,
      "outputs": [
        {
          "output_type": "execute_result",
          "data": {
            "text/plain": [
              "2"
            ]
          },
          "metadata": {},
          "execution_count": 32
        }
      ]
    },
    {
      "cell_type": "code",
      "source": [
        "5<<1"
      ],
      "metadata": {
        "colab": {
          "base_uri": "https://localhost:8080/"
        },
        "id": "YWhHrl9W9-lc",
        "outputId": "df7c430d-51ac-4d95-90b0-3d9408f5e476"
      },
      "execution_count": 33,
      "outputs": [
        {
          "output_type": "execute_result",
          "data": {
            "text/plain": [
              "10"
            ]
          },
          "metadata": {},
          "execution_count": 33
        }
      ]
    },
    {
      "cell_type": "markdown",
      "source": [
        "**is** operator ....return truw valus if both variables are the same object\n",
        "**is not** ....return true if both are no the same object"
      ],
      "metadata": {
        "id": "nb6y24tg-J-v"
      }
    },
    {
      "cell_type": "code",
      "source": [
        "x=5\n",
        "y=3\n",
        "x is y"
      ],
      "metadata": {
        "colab": {
          "base_uri": "https://localhost:8080/"
        },
        "id": "FizqOLcF-U1G",
        "outputId": "f305984e-0ee1-47e4-bfca-9dd0ef741436"
      },
      "execution_count": 36,
      "outputs": [
        {
          "output_type": "execute_result",
          "data": {
            "text/plain": [
              "False"
            ]
          },
          "metadata": {},
          "execution_count": 36
        }
      ]
    },
    {
      "cell_type": "code",
      "source": [
        "print(\"hello \\\\\")\n",
        "#\\n means next line\n",
        "#\\t means a tab (4 spaces)\n",
        "#\\' single quotation\n",
        "#\\'' double quotaion\n",
        "#\\\\ means single backslash"
      ],
      "metadata": {
        "colab": {
          "base_uri": "https://localhost:8080/"
        },
        "id": "97urelceBF8i",
        "outputId": "ddd68472-ccd1-4633-9dcf-1b9b95116a59"
      },
      "execution_count": 37,
      "outputs": [
        {
          "output_type": "stream",
          "name": "stdout",
          "text": [
            "hello \\\n"
          ]
        }
      ]
    },
    {
      "cell_type": "code",
      "source": [
        "# Numeric Literal...> there are 4 types of numeric literals : integers, floating point numbers, and imaginary numbers.\n",
        "#Note: integers in python 3 are of unlimited size while in python 2 there are int and long ....no such thing as 'long int'\n",
        "\n",
        "b=0b11100 #bunary literals\n",
        "d=110 #decimal literals\n",
        "o=0o100 #Ocal literals\n",
        "u=0x14d #hexadecimal literals\n",
        "\n",
        "#FLOAT_LITERALS\n",
        "float1 = 1.23\n",
        "float2 = 1.5e4 #e - power of 10\n",
        "\n",
        "#COMPLEX_LITERALS\n",
        "c=5+3.14j\n",
        "\n",
        "print(b,d,o,u)\n",
        "print(float1,float2)\n",
        "print(c,c.imag,c.real)"
      ],
      "metadata": {
        "colab": {
          "base_uri": "https://localhost:8080/"
        },
        "id": "ogW-RNVFBla4",
        "outputId": "289626b9-64f3-45c2-cf8d-f769c44bd9d4"
      },
      "execution_count": 39,
      "outputs": [
        {
          "output_type": "stream",
          "name": "stdout",
          "text": [
            "28 110 64 333\n",
            "1.23 15000.0\n",
            "(5+3.14j) 3.14 5.0\n"
          ]
        }
      ]
    },
    {
      "cell_type": "markdown",
      "source": [
        " **List[], Dictionary{}, Tuple(), Sets{}** are some of the data structures in python"
      ],
      "metadata": {
        "id": "Z953tH2mEnpq"
      }
    },
    {
      "cell_type": "code",
      "source": [
        "#A\n",
        "print(type([10]))\n",
        "#B\n",
        "print(type(10))\n",
        "#c\n",
        "print(type((10,14)))\n",
        "#D\n",
        "print(type({10}))"
      ],
      "metadata": {
        "colab": {
          "base_uri": "https://localhost:8080/"
        },
        "id": "FTN1y4VcE002",
        "outputId": "38f4110c-726e-4ec6-f819-f201c454775e"
      },
      "execution_count": 41,
      "outputs": [
        {
          "output_type": "stream",
          "name": "stdout",
          "text": [
            "<class 'list'>\n",
            "<class 'int'>\n",
            "<class 'tuple'>\n",
            "<class 'set'>\n"
          ]
        }
      ]
    },
    {
      "cell_type": "code",
      "source": [
        "#swap two numbers without using third variable\n",
        "a=5\n",
        "b=10\n",
        "a,b=b,a\n",
        "print(a,b)"
      ],
      "metadata": {
        "colab": {
          "base_uri": "https://localhost:8080/"
        },
        "id": "ApPGUQaYG2LW",
        "outputId": "a447bc96-25e8-4f48-a061-b484c2675214"
      },
      "execution_count": 42,
      "outputs": [
        {
          "output_type": "stream",
          "name": "stdout",
          "text": [
            "10 5\n"
          ]
        }
      ]
    }
  ]
}