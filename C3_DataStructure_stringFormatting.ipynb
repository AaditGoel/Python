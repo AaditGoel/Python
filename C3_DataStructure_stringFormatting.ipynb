{
  "nbformat": 4,
  "nbformat_minor": 0,
  "metadata": {
    "colab": {
      "name": "C3_DataStructure_stringFormatting.ipynb",
      "provenance": [],
      "authorship_tag": "ABX9TyNZo6BaCdAv6CSmHuyJ8Fo9",
      "include_colab_link": true
    },
    "kernelspec": {
      "name": "python3",
      "display_name": "Python 3"
    },
    "language_info": {
      "name": "python"
    }
  },
  "cells": [
    {
      "cell_type": "markdown",
      "metadata": {
        "id": "view-in-github",
        "colab_type": "text"
      },
      "source": [
        "<a href=\"https://colab.research.google.com/github/AaditGoel/Python/blob/main/C3_DataStructure_stringFormatting.ipynb\" target=\"_parent\"><img src=\"https://colab.research.google.com/assets/colab-badge.svg\" alt=\"Open In Colab\"/></a>"
      ]
    },
    {
      "cell_type": "markdown",
      "source": [
        "**BASIC LIST METHODS**\n",
        "It is similar to what we call as arrays . However it is simpler than arrays as we dont have to specify the size of list and they dont have any fixed constraint.\n",
        "\n",
        "It should be noted that the list indexing will return an error if there is no element present at that index.\n",
        "\n",
        "We can use sort and reverse to modify our list"
      ],
      "metadata": {
        "id": "G8IQgel9Il4X"
      }
    },
    {
      "cell_type": "code",
      "source": [
        "a=['a','b','c']"
      ],
      "metadata": {
        "id": "ukGzQ_NILBKv"
      },
      "execution_count": 1,
      "outputs": []
    },
    {
      "cell_type": "code",
      "source": [
        "#append is a function/property of lists only\n",
        "#it is a permanent property , can't be changed once used\n",
        "a.append(['var1','var2',['var1','var2']])\n",
        "a[3][2]"
      ],
      "metadata": {
        "colab": {
          "base_uri": "https://localhost:8080/"
        },
        "id": "Gt3ZTXnxLGuS",
        "outputId": "bfed8853-4334-451f-b6af-6957ed7460eb"
      },
      "execution_count": 10,
      "outputs": [
        {
          "output_type": "execute_result",
          "data": {
            "text/plain": [
              "['var1', 'var2']"
            ]
          },
          "metadata": {},
          "execution_count": 10
        }
      ]
    },
    {
      "cell_type": "code",
      "source": [
        "#In order to obtain a particular element, we simply use indexing ----> also known as slicing\n",
        "#indexing starts from 0 from left\n",
        "#And from -1 from right\n",
        "\n",
        "a[1]\n",
        "print(a[1],a[-1])\n",
        "print(a[3][0],a[-1][-3])\n",
        "print(a[3][0],a[-1][-1][-2])"
      ],
      "metadata": {
        "colab": {
          "base_uri": "https://localhost:8080/"
        },
        "id": "rH8CN003LhXG",
        "outputId": "3e8ae964-2035-483a-c7b1-85907e43029c"
      },
      "execution_count": 6,
      "outputs": [
        {
          "output_type": "stream",
          "name": "stdout",
          "text": [
            "b ['var1', 'var2', ['var1', 'var2']]\n",
            "var1 var1\n",
            "var1 var1\n"
          ]
        }
      ]
    },
    {
      "cell_type": "code",
      "source": [
        "# can also update any particular element of list using slicing\n",
        "a[3][2][1]=99\n",
        "print(a)"
      ],
      "metadata": {
        "colab": {
          "base_uri": "https://localhost:8080/"
        },
        "id": "5HEvyFGHM8Ov",
        "outputId": "d502e2dd-7ceb-4033-97d8-e130eec9305f"
      },
      "execution_count": 11,
      "outputs": [
        {
          "output_type": "stream",
          "name": "stdout",
          "text": [
            "['a', 'b', 'c', ['var1', 'var2', ['var1', 99]], ['var1', 'var2', ['var1', 'var2']], ['var1', 'var2', ['var1', 'var2']], ['var1', 'var2', ['var1', 'var2']]]\n"
          ]
        }
      ]
    },
    {
      "cell_type": "code",
      "source": [
        "#list []\n",
        "#indexing []\n",
        "#tuple ()\n",
        "#sets {}\n",
        "#dict {}"
      ],
      "metadata": {
        "id": "47bKJb6yNXln"
      },
      "execution_count": 12,
      "outputs": []
    },
    {
      "cell_type": "code",
      "source": [
        "#use reverse to reverse the elements of list\n",
        "newlist=['a','b','c','d','e']\n",
        "newlist.reverse()\n",
        "newlist"
      ],
      "metadata": {
        "colab": {
          "base_uri": "https://localhost:8080/"
        },
        "id": "3pZP52baNlvw",
        "outputId": "25bb4e15-1a1b-4c4b-e08c-3728e8ceecc0"
      },
      "execution_count": 13,
      "outputs": [
        {
          "output_type": "execute_result",
          "data": {
            "text/plain": [
              "['e', 'd', 'c', 'b', 'a']"
            ]
          },
          "metadata": {},
          "execution_count": 13
        }
      ]
    },
    {
      "cell_type": "code",
      "source": [
        "#use sort to sort the elemnts of a list alphabetically or numerically(ascending order)\n",
        "newlist.append(['x'])\n",
        "newlist"
      ],
      "metadata": {
        "colab": {
          "base_uri": "https://localhost:8080/"
        },
        "id": "IQPWn8k-N7e6",
        "outputId": "4bd08f8a-e7d9-4ed0-aa00-62360225926d"
      },
      "execution_count": 15,
      "outputs": [
        {
          "output_type": "execute_result",
          "data": {
            "text/plain": [
              "['e', 'd', 'c', 'b', 'a', ['x'], ['x']]"
            ]
          },
          "metadata": {},
          "execution_count": 15
        }
      ]
    },
    {
      "cell_type": "code",
      "source": [
        "nlist=['a','b','x','d']\n",
        "nlist.sort()\n",
        "nlist"
      ],
      "metadata": {
        "colab": {
          "base_uri": "https://localhost:8080/"
        },
        "id": "VhaHCH56OYt4",
        "outputId": "ab97b018-dd15-4f49-bd79-5cbdd60d4d4c"
      },
      "execution_count": 21,
      "outputs": [
        {
          "output_type": "execute_result",
          "data": {
            "text/plain": [
              "['a', 'b', 'd', 'x']"
            ]
          },
          "metadata": {},
          "execution_count": 21
        }
      ]
    },
    {
      "cell_type": "markdown",
      "source": [
        "**NESTING OF LISTS**\n",
        "A great feature of python is that it supports nesting. This means we can have data strucure within data structures. for example a list within a list"
      ],
      "metadata": {
        "id": "XZ_f8wCuOyel"
      }
    },
    {
      "cell_type": "code",
      "source": [
        "#consider 3 lists\n",
        "l1=['1','2','3']\n",
        "l2=['4','5','6']\n",
        "l3=['7','8','9']\n",
        "\n",
        "#make a list of these 3 to form a matrix\n",
        "matrix=[l1,l2,l3]\n"
      ],
      "metadata": {
        "id": "3Y_leIMCOrUd"
      },
      "execution_count": 24,
      "outputs": []
    },
    {
      "cell_type": "code",
      "source": [
        "matrix"
      ],
      "metadata": {
        "colab": {
          "base_uri": "https://localhost:8080/"
        },
        "id": "DkFXidFzQE9y",
        "outputId": "6a781c02-8044-4911-f9fd-2073118b738b"
      },
      "execution_count": 25,
      "outputs": [
        {
          "output_type": "execute_result",
          "data": {
            "text/plain": [
              "[['1', '2', '3'], ['4', '5', '6'], ['7', '8', '9']]"
            ]
          },
          "metadata": {},
          "execution_count": 25
        }
      ]
    },
    {
      "cell_type": "code",
      "source": [
        "# We can again use indexing to grab elements but this time we will have 2 levels for the index. The items on the matrix box and then the items in the list\n",
        "\n",
        "print(matrix[0])\n",
        "print(matrix[0][0])"
      ],
      "metadata": {
        "colab": {
          "base_uri": "https://localhost:8080/"
        },
        "id": "ltseeDYBQRYi",
        "outputId": "6c4e3ec2-d19f-49dd-c776-294a7524e37e"
      },
      "execution_count": 27,
      "outputs": [
        {
          "output_type": "stream",
          "name": "stdout",
          "text": [
            "['1', '2', '3']\n",
            "1\n"
          ]
        }
      ]
    },
    {
      "cell_type": "code",
      "source": [
        "nlist.sort(reverse=True)   # True gives descending order while False gives ascending order which is default order of sort\n",
        "nlist"
      ],
      "metadata": {
        "colab": {
          "base_uri": "https://localhost:8080/"
        },
        "id": "HmDPz7HXQuGZ",
        "outputId": "8a2178a8-02b3-4a27-b049-79dec73b465f"
      },
      "execution_count": 30,
      "outputs": [
        {
          "output_type": "execute_result",
          "data": {
            "text/plain": [
              "['x', 'd', 'b', 'a']"
            ]
          },
          "metadata": {},
          "execution_count": 30
        }
      ]
    },
    {
      "cell_type": "markdown",
      "source": [
        "**REVERSE,APPEND,SORT,NESTING,SLICING**"
      ],
      "metadata": {
        "id": "nJz_mHBpU6es"
      }
    },
    {
      "cell_type": "markdown",
      "source": [
        "**DICTIONARIES**\n",
        "\n",
        "We have been learning abt sequences in Pyhton but now we are going to switch gears and learn abt mapping in python. W.r.t other languages , it may be compared to hash tables.\n",
        "\n",
        "It consists of:\n",
        "1. Constructing a dictionary\n",
        "2. Accessing objects from a dictionary\n",
        "3. Nesting dictionaries\n",
        "4. Basic dictionary methods\n",
        "\n",
        "Mappings are a collection of an object that are stored in a key, unlike a sequence which stores object by their relative position.\n",
        "it is an imp distinction,since mapping wont retain order since they have objects defined by a key.\n",
        "\n",
        "A python dictionary consists of a key and its associated value.The value can be almost any Python object.\n"
      ],
      "metadata": {
        "id": "Awf1SmCmROdr"
      }
    },
    {
      "cell_type": "markdown",
      "source": [
        "**CONSTRUCTING A DICTIONARY**\n"
      ],
      "metadata": {
        "id": "oho34UcfSsz8"
      }
    },
    {
      "cell_type": "code",
      "source": [
        "#make a dictionary using {} and : to signify key and its value \n",
        "my_dict={'key1':'value1','key2':'value2'}"
      ],
      "metadata": {
        "id": "wQl4d-cHSz0L"
      },
      "execution_count": 31,
      "outputs": []
    },
    {
      "cell_type": "code",
      "source": [
        "#Call value by their key\n",
        "my_dict['key2']"
      ],
      "metadata": {
        "colab": {
          "base_uri": "https://localhost:8080/",
          "height": 35
        },
        "id": "3pVrsZMbUnZk",
        "outputId": "e714f054-b940-4592-8c13-72f9c8a3ca65"
      },
      "execution_count": 32,
      "outputs": [
        {
          "output_type": "execute_result",
          "data": {
            "text/plain": [
              "'value2'"
            ],
            "application/vnd.google.colaboratory.intrinsic+json": {
              "type": "string"
            }
          },
          "metadata": {},
          "execution_count": 32
        }
      ]
    },
    {
      "cell_type": "markdown",
      "source": [
        "It is imp to note that dictionaries are very flexible for the elements they hold. For ex:"
      ],
      "metadata": {
        "id": "uV7VF1QQV1fA"
      }
    },
    {
      "cell_type": "code",
      "source": [
        "my_dict = {'key1':123,'key2':[12,23,34],'key3':['item0','item1','item2']}"
      ],
      "metadata": {
        "id": "0DCFtwqUV8XB"
      },
      "execution_count": 44,
      "outputs": []
    },
    {
      "cell_type": "code",
      "source": [
        "my_dict['key1']*20"
      ],
      "metadata": {
        "colab": {
          "base_uri": "https://localhost:8080/"
        },
        "id": "cc9zwlePWXZt",
        "outputId": "870b04ff-4712-4a3c-9a24-fd03d570a384"
      },
      "execution_count": 38,
      "outputs": [
        {
          "output_type": "execute_result",
          "data": {
            "text/plain": [
              "400"
            ]
          },
          "metadata": {},
          "execution_count": 38
        }
      ]
    },
    {
      "cell_type": "code",
      "source": [
        "my_dict['key3'] #gives all elements at that key value"
      ],
      "metadata": {
        "colab": {
          "base_uri": "https://localhost:8080/"
        },
        "id": "AI5406gTWs5-",
        "outputId": "20dd8d41-2873-4393-b87b-46cceef3128c"
      },
      "execution_count": 40,
      "outputs": [
        {
          "output_type": "execute_result",
          "data": {
            "text/plain": [
              "['item0', 'item2', 'item3']"
            ]
          },
          "metadata": {},
          "execution_count": 40
        }
      ]
    },
    {
      "cell_type": "code",
      "source": [
        "#Lets call an index on that value\n",
        "print(my_dict['key1'])\n",
        "print(my_dict['key3'][0:2])  #[start:end-1]"
      ],
      "metadata": {
        "colab": {
          "base_uri": "https://localhost:8080/"
        },
        "id": "THcim5m-XSF1",
        "outputId": "b3c87c19-0a93-4a3c-e72a-0301a4b41024"
      },
      "execution_count": 51,
      "outputs": [
        {
          "output_type": "stream",
          "name": "stdout",
          "text": [
            "-246\n",
            "['item0', 'item1']\n"
          ]
        }
      ]
    },
    {
      "cell_type": "code",
      "source": [
        "my_dict['key3'][0].upper()"
      ],
      "metadata": {
        "colab": {
          "base_uri": "https://localhost:8080/",
          "height": 35
        },
        "id": "9FBjOu-hYRAj",
        "outputId": "b85397ee-10fd-42e7-a581-067416f308f7"
      },
      "execution_count": 46,
      "outputs": [
        {
          "output_type": "execute_result",
          "data": {
            "text/plain": [
              "'ITEM0'"
            ],
            "application/vnd.google.colaboratory.intrinsic+json": {
              "type": "string"
            }
          },
          "metadata": {},
          "execution_count": 46
        }
      ]
    },
    {
      "cell_type": "code",
      "source": [
        "#to subtract 123 from key1\n",
        "my_dict['key1'] = 123\n",
        "my_dict['key1']"
      ],
      "metadata": {
        "colab": {
          "base_uri": "https://localhost:8080/"
        },
        "id": "71JI24wNYZaK",
        "outputId": "59ff6b72-9087-4b01-95ef-691e69f13057"
      },
      "execution_count": 52,
      "outputs": [
        {
          "output_type": "execute_result",
          "data": {
            "text/plain": [
              "123"
            ]
          },
          "metadata": {},
          "execution_count": 52
        }
      ]
    },
    {
      "cell_type": "code",
      "source": [
        "my_dict['key1'] = my_dict['key1']-123  #u cud also have used my_dict['key1']-=123"
      ],
      "metadata": {
        "id": "4KELikcpY7Sz"
      },
      "execution_count": 53,
      "outputs": []
    },
    {
      "cell_type": "code",
      "source": [
        "my_dict['key1']"
      ],
      "metadata": {
        "colab": {
          "base_uri": "https://localhost:8080/"
        },
        "id": "ydrYK-Q6ZBym",
        "outputId": "efbf2990-1774-4eae-ee99-006a0af40d2e"
      },
      "execution_count": 54,
      "outputs": [
        {
          "output_type": "execute_result",
          "data": {
            "text/plain": [
              "0"
            ]
          },
          "metadata": {},
          "execution_count": 54
        }
      ]
    },
    {
      "cell_type": "markdown",
      "source": [
        "We can also create keys by assignement.For instance, we can create an empty list and continually add keys to it."
      ],
      "metadata": {
        "id": "Toi9VvkcaF1e"
      }
    },
    {
      "cell_type": "code",
      "source": [
        "d={}"
      ],
      "metadata": {
        "id": "i5DGTg6-aX9Y"
      },
      "execution_count": 71,
      "outputs": []
    },
    {
      "cell_type": "code",
      "source": [
        "#Create thru assignment\n",
        "d['animal']='dog'\n"
      ],
      "metadata": {
        "id": "1D407y0UaZKY"
      },
      "execution_count": 70,
      "outputs": []
    },
    {
      "cell_type": "code",
      "source": [
        "d['animal']='Cat'\n",
        "d['animal']"
      ],
      "metadata": {
        "colab": {
          "base_uri": "https://localhost:8080/",
          "height": 35
        },
        "id": "-7JGoWXSaqp2",
        "outputId": "5d60eed7-fc93-45e9-9253-a3716596f423"
      },
      "execution_count": 72,
      "outputs": [
        {
          "output_type": "execute_result",
          "data": {
            "text/plain": [
              "'Cat'"
            ],
            "application/vnd.google.colaboratory.intrinsic+json": {
              "type": "string"
            }
          },
          "metadata": {},
          "execution_count": 72
        }
      ]
    },
    {
      "cell_type": "code",
      "source": [
        "#Can do this with any object\n",
        "d['answer']=4"
      ],
      "metadata": {
        "id": "vSmQokYyaxTi"
      },
      "execution_count": 73,
      "outputs": []
    },
    {
      "cell_type": "code",
      "source": [
        "d.keys()"
      ],
      "metadata": {
        "colab": {
          "base_uri": "https://localhost:8080/"
        },
        "id": "1UU5XqwebRWX",
        "outputId": "2d2aa373-1995-4b84-ea3e-45a15a8b7b46"
      },
      "execution_count": 74,
      "outputs": [
        {
          "output_type": "execute_result",
          "data": {
            "text/plain": [
              "dict_keys(['animal', 'answer'])"
            ]
          },
          "metadata": {},
          "execution_count": 74
        }
      ]
    },
    {
      "cell_type": "markdown",
      "source": [
        "**NESTING OF DICTIONARIES**\n",
        "\n",
        "nesting makes life easy......it is also possible to do nesting in dictionaries also."
      ],
      "metadata": {
        "id": "qvKw8mysbSn5"
      }
    },
    {
      "cell_type": "code",
      "source": [
        "d={'key1':{'nestkey':{'subnestkey':'value'}}}"
      ],
      "metadata": {
        "id": "zEMuoe4AblHg"
      },
      "execution_count": 65,
      "outputs": []
    },
    {
      "cell_type": "code",
      "source": [
        "#keep calling the keys\n",
        "print(d['key1'],'    ',d['key1']['nestkey'],'      ',d['key1']['nestkey']['subnestkey'])"
      ],
      "metadata": {
        "colab": {
          "base_uri": "https://localhost:8080/"
        },
        "id": "SMVY0zakb0lW",
        "outputId": "967c7146-1701-4a6e-ee5c-ba2662afde42"
      },
      "execution_count": 67,
      "outputs": [
        {
          "output_type": "stream",
          "name": "stdout",
          "text": [
            "{'nestkey': {'subnestkey': 'value'}}      {'subnestkey': 'value'}        value\n"
          ]
        }
      ]
    },
    {
      "cell_type": "markdown",
      "source": [
        "**A FEW DICTIONARY METHODS**\n",
        "\n",
        "There are few methods we can on a dictionary. "
      ],
      "metadata": {
        "id": "rQXoq0Tccgeo"
      }
    },
    {
      "cell_type": "code",
      "source": [
        "#Create a typical dictionary\n",
        "d={'key1':1,'key2':2,'key3':3}"
      ],
      "metadata": {
        "id": "lU3ViOl6cTTg"
      },
      "execution_count": 77,
      "outputs": []
    },
    {
      "cell_type": "code",
      "source": [
        "#method to return a dict of keys only\n",
        "d.keys()"
      ],
      "metadata": {
        "colab": {
          "base_uri": "https://localhost:8080/"
        },
        "id": "joY_w7Q1ePrY",
        "outputId": "9ca03b09-ca68-4ed9-a47f-edd473eeda21"
      },
      "execution_count": 78,
      "outputs": [
        {
          "output_type": "execute_result",
          "data": {
            "text/plain": [
              "dict_keys(['key1', 'key2', 'key3'])"
            ]
          },
          "metadata": {},
          "execution_count": 78
        }
      ]
    },
    {
      "cell_type": "code",
      "source": [
        "#methid to grab dict of only values\n",
        "d.values()"
      ],
      "metadata": {
        "colab": {
          "base_uri": "https://localhost:8080/"
        },
        "id": "4Dcp-18jegtK",
        "outputId": "6c33d155-2682-43d8-caae-54d9cba2effb"
      },
      "execution_count": 79,
      "outputs": [
        {
          "output_type": "execute_result",
          "data": {
            "text/plain": [
              "dict_values([1, 2, 3])"
            ]
          },
          "metadata": {},
          "execution_count": 79
        }
      ]
    },
    {
      "cell_type": "code",
      "source": [
        "#method to return tuples of all items \n",
        "d.items()"
      ],
      "metadata": {
        "colab": {
          "base_uri": "https://localhost:8080/"
        },
        "id": "j_jCgXGCexUr",
        "outputId": "27dfe705-b938-4c01-c3c8-16e2799de549"
      },
      "execution_count": 80,
      "outputs": [
        {
          "output_type": "execute_result",
          "data": {
            "text/plain": [
              "dict_items([('key1', 1), ('key2', 2), ('key3', 3)])"
            ]
          },
          "metadata": {},
          "execution_count": 80
        }
      ]
    },
    {
      "cell_type": "code",
      "source": [
        "list(range(1,11)) #range is a generator so it req something like list,tuple etc."
      ],
      "metadata": {
        "colab": {
          "base_uri": "https://localhost:8080/"
        },
        "id": "qvbBJfqXh9zQ",
        "outputId": "5436650e-5007-4466-f56e-7e36691898cc"
      },
      "execution_count": 81,
      "outputs": [
        {
          "output_type": "execute_result",
          "data": {
            "text/plain": [
              "[1, 2, 3, 4, 5, 6, 7, 8, 9, 10]"
            ]
          },
          "metadata": {},
          "execution_count": 81
        }
      ]
    },
    {
      "cell_type": "code",
      "source": [
        "#in class practice Q1\n",
        "\n",
        "#multiplication table\n",
        "\n",
        "n=int(input(\"enter a number\"))\n",
        "\n",
        "for i in range(1,11):   #(start,end-1) \n",
        "     print(n,\"X\",i,\"=\",n*i)\n",
        "\n"
      ],
      "metadata": {
        "colab": {
          "base_uri": "https://localhost:8080/"
        },
        "id": "-ROwUYFvhvFG",
        "outputId": "fcafcc2c-a03f-43f0-c81b-34a72e73828f"
      },
      "execution_count": 83,
      "outputs": [
        {
          "output_type": "stream",
          "name": "stdout",
          "text": [
            "enter a number5\n",
            "5 X 1 = 5\n",
            "5 X 2 = 10\n",
            "5 X 3 = 15\n",
            "5 X 4 = 20\n",
            "5 X 5 = 25\n",
            "5 X 6 = 30\n",
            "5 X 7 = 35\n",
            "5 X 8 = 40\n",
            "5 X 9 = 45\n",
            "5 X 10 = 50\n"
          ]
        }
      ]
    },
    {
      "cell_type": "code",
      "source": [
        "#swapping using multiplication\n",
        "a=10\n",
        "b=20\n",
        "print(a,b)\n",
        "a=a+b\n",
        "b=a-b\n",
        "a=a-b\n",
        "print(a,b)"
      ],
      "metadata": {
        "colab": {
          "base_uri": "https://localhost:8080/"
        },
        "id": "NAFZawlwjUcN",
        "outputId": "04e329a5-6972-4834-efa5-09c7398a6809"
      },
      "execution_count": 84,
      "outputs": [
        {
          "output_type": "stream",
          "name": "stdout",
          "text": [
            "10 20\n",
            "20 10\n"
          ]
        }
      ]
    },
    {
      "cell_type": "code",
      "source": [
        "#swapping using XOR\n",
        "\n",
        "a=10\n",
        "b=20\n",
        "print(a,b)\n",
        "a=a^b\n",
        "b=b^a\n",
        "print(a,b)"
      ],
      "metadata": {
        "colab": {
          "base_uri": "https://localhost:8080/"
        },
        "id": "b1V_F5QejlBI",
        "outputId": "82691401-6b26-46e5-deb3-9471a62458b4"
      },
      "execution_count": 85,
      "outputs": [
        {
          "output_type": "stream",
          "name": "stdout",
          "text": [
            "10 20\n",
            "30 10\n"
          ]
        }
      ]
    },
    {
      "cell_type": "markdown",
      "source": [
        "**STRING FORMATTING:**\n",
        "\n",
        "String formatting lets you inject items into a string rather than trying chain items together using commas or strings contatenation. As a quick comparison,consider;\n",
        "\n",
        "player = 'thomas'\n",
        "points = 33\n",
        "\n",
        "'Last night, 'player+' , scored '+str(points)+' points.' #concatenation\n",
        "\n",
        "f'Last night, {player} scored {points} points.'\n",
        "\n",
        "There are three ways to perform string formatting:\n",
        "\n",
        "\n",
        "*   The oldest method involves placeholders using the modulus % character\n",
        "*   An improved technique uses the .format() string method\n",
        "*   The newest method(python 3.6) uses formatted string literals,called f-strings\n",
        "\n",
        "\n",
        "\n"
      ],
      "metadata": {
        "id": "rNH05wYjkFC4"
      }
    },
    {
      "cell_type": "markdown",
      "source": [
        "FORMATTING WITH PLACEHOLDERS\n",
        "\n",
        "The % operator is reffered as 'string formatting operator'.\n",
        "\n",
        "You can use it to inject strings in print statements."
      ],
      "metadata": {
        "id": "u1BD6MnXmKsC"
      }
    },
    {
      "cell_type": "code",
      "source": [
        "print(\"I am going to inject %s here\" %'something')"
      ],
      "metadata": {
        "colab": {
          "base_uri": "https://localhost:8080/"
        },
        "id": "ifSExYMQl2B2",
        "outputId": "6718e64f-58fd-4bb6-a8d4-ee91d4c8441e"
      },
      "execution_count": 87,
      "outputs": [
        {
          "output_type": "stream",
          "name": "stdout",
          "text": [
            "I am going to inject something here\n"
          ]
        }
      ]
    },
    {
      "cell_type": "code",
      "source": [
        "print('Welcome to skill void')"
      ],
      "metadata": {
        "colab": {
          "base_uri": "https://localhost:8080/"
        },
        "id": "7FY8UJBimxvc",
        "outputId": "81b2ffa4-28c8-43fc-8281-8c0e28542c37"
      },
      "execution_count": 88,
      "outputs": [
        {
          "output_type": "stream",
          "name": "stdout",
          "text": [
            "Welcome to skill void\n"
          ]
        }
      ]
    },
    {
      "cell_type": "code",
      "source": [
        "print('Welcome to skill %s' %'void')"
      ],
      "metadata": {
        "colab": {
          "base_uri": "https://localhost:8080/"
        },
        "id": "PsMJnka8m1Sl",
        "outputId": "de78f81d-1233-4eaf-873d-325f177ce6e7"
      },
      "execution_count": 89,
      "outputs": [
        {
          "output_type": "stream",
          "name": "stdout",
          "text": [
            "Welcome to skill void\n"
          ]
        }
      ]
    },
    {
      "cell_type": "code",
      "source": [
        "# YOU CAN INJECT MULTIPLE ITEMS BY PLACING THEM IN A TUPLE AFTER THE %OPERTAOR \n",
        "\n",
        "print('I am going to inject %s text here and %s text here' %('some','more'))"
      ],
      "metadata": {
        "colab": {
          "base_uri": "https://localhost:8080/"
        },
        "id": "_zNl7kqMnB54",
        "outputId": "ff75a436-e990-4b30-ca13-7af61a49af9c"
      },
      "execution_count": 91,
      "outputs": [
        {
          "output_type": "stream",
          "name": "stdout",
          "text": [
            "I am going to inject some text here and more text here\n"
          ]
        }
      ]
    },
    {
      "cell_type": "code",
      "source": [
        "x ='some'\n",
        "y='more'\n",
        "print('I am going to inject %s text here and %s text here' %(y,x))"
      ],
      "metadata": {
        "colab": {
          "base_uri": "https://localhost:8080/"
        },
        "id": "ShFX0Vtynl9o",
        "outputId": "ae14aa6d-cabc-4343-a918-7b40a66f6994"
      },
      "execution_count": 94,
      "outputs": [
        {
          "output_type": "stream",
          "name": "stdout",
          "text": [
            "I am going to inject more text here and some text here\n"
          ]
        }
      ]
    },
    {
      "cell_type": "markdown",
      "source": [
        "The %s operates whatever it recieves into a string, whether it's a float or integer.\n",
        "\n",
        "The %d converts numbers into integers first without rounding them. "
      ],
      "metadata": {
        "id": "cjDuYF0VoxQb"
      }
    },
    {
      "cell_type": "code",
      "source": [
        "print('I wrote %s programs today' %3.75)\n",
        "print('I wrote %d programs today' %3.75)"
      ],
      "metadata": {
        "colab": {
          "base_uri": "https://localhost:8080/"
        },
        "id": "uZ5NcCwcpcE0",
        "outputId": "831dfa64-f16a-45da-b1db-67ac842c401a"
      },
      "execution_count": 95,
      "outputs": [
        {
          "output_type": "stream",
          "name": "stdout",
          "text": [
            "I wrote 3.75 programs today\n",
            "I wrote 3 programs today\n"
          ]
        }
      ]
    },
    {
      "cell_type": "markdown",
      "source": [
        "PADDING AND PRECISION OF FLOATING POINT NUMBERS\n",
        "\n",
        "Floating point numbers use %5.2f . Here 5 would be the minimum no. if characters the string must contain; these will be padded with white space if the entire number does not have this many digits. Next to this .2f stands for how many numbers to show the past decimal point. "
      ],
      "metadata": {
        "id": "IMlpxst5pq2F"
      }
    },
    {
      "cell_type": "code",
      "source": [
        "print('floating point numbers: %5.2f' %(13.144))"
      ],
      "metadata": {
        "colab": {
          "base_uri": "https://localhost:8080/"
        },
        "id": "rlnyRBxksJHs",
        "outputId": "2240c6d3-c6c1-4255-a80d-e7959d7db35b"
      },
      "execution_count": 100,
      "outputs": [
        {
          "output_type": "stream",
          "name": "stdout",
          "text": [
            "f: 13.14\n"
          ]
        }
      ]
    },
    {
      "cell_type": "code",
      "source": [
        "print('floating point numbers: %1.0f' %(13.144))"
      ],
      "metadata": {
        "colab": {
          "base_uri": "https://localhost:8080/"
        },
        "id": "RGzt6txZsUYQ",
        "outputId": "262683fe-2b7a-42a9-b630-bff03d374a23"
      },
      "execution_count": 101,
      "outputs": [
        {
          "output_type": "stream",
          "name": "stdout",
          "text": [
            "floating point numbers: 13\n"
          ]
        }
      ]
    },
    {
      "cell_type": "code",
      "source": [
        "print('floating point numbers: %1.5f' %(13.144))"
      ],
      "metadata": {
        "colab": {
          "base_uri": "https://localhost:8080/"
        },
        "id": "u5qgrYAmspba",
        "outputId": "9eb9ef67-7024-4c65-a93d-54b4149861cf"
      },
      "execution_count": 102,
      "outputs": [
        {
          "output_type": "stream",
          "name": "stdout",
          "text": [
            "floating point numbers: 13.14400\n"
          ]
        }
      ]
    },
    {
      "cell_type": "code",
      "source": [
        "print('floating point numbers: %10.2f' %(13.144))"
      ],
      "metadata": {
        "colab": {
          "base_uri": "https://localhost:8080/"
        },
        "id": "41JePWKjsz1h",
        "outputId": "e0954e6c-030d-44eb-e7f1-daa296fcf858"
      },
      "execution_count": 103,
      "outputs": [
        {
          "output_type": "stream",
          "name": "stdout",
          "text": [
            "floating point numbers:      13.14\n"
          ]
        }
      ]
    },
    {
      "cell_type": "code",
      "source": [
        "print('floating point numbers: %25.2f' %(13.144))"
      ],
      "metadata": {
        "colab": {
          "base_uri": "https://localhost:8080/"
        },
        "id": "pX_m4hfIs21v",
        "outputId": "1fc67a42-9942-495a-ec42-62f82e7ed682"
      },
      "execution_count": 104,
      "outputs": [
        {
          "output_type": "stream",
          "name": "stdout",
          "text": [
            "floating point numbers:                     13.14\n"
          ]
        }
      ]
    },
    {
      "cell_type": "code",
      "source": [
        "print(\"%25.2f\"%(13.144))\n",
        "len(\"%25.2f\"%(13.144))\n"
      ],
      "metadata": {
        "colab": {
          "base_uri": "https://localhost:8080/"
        },
        "id": "JQrRk0tCtEVl",
        "outputId": "e1b889a8-6b85-43fd-ef68-8199046422ae"
      },
      "execution_count": 109,
      "outputs": [
        {
          "output_type": "stream",
          "name": "stdout",
          "text": [
            "                    13.14\n"
          ]
        },
        {
          "output_type": "execute_result",
          "data": {
            "text/plain": [
              "25"
            ]
          },
          "metadata": {},
          "execution_count": 109
        }
      ]
    },
    {
      "cell_type": "markdown",
      "source": [
        "MULTIPLE FORMATTING\n",
        "\n",
        "Nothing prohibits using mkre than one conversation tool in the same print statement"
      ],
      "metadata": {
        "id": "V-CHP4XktrP1"
      }
    },
    {
      "cell_type": "code",
      "source": [
        "print('first: %s, Second: %5.2f, Third: %r' %('hi',3.1415,'bye!'))"
      ],
      "metadata": {
        "colab": {
          "base_uri": "https://localhost:8080/"
        },
        "id": "I_1xs5j4t8cs",
        "outputId": "daff8da4-d1dd-48d8-954e-70d9b96dd4c8"
      },
      "execution_count": 113,
      "outputs": [
        {
          "output_type": "stream",
          "name": "stdout",
          "text": [
            "first: hi, Second:  3.14, Third: 'bye!'\n"
          ]
        }
      ]
    },
    {
      "cell_type": "markdown",
      "source": [
        "**FORMATTING WITH .format method**\n",
        "\n",
        "A better way to format your objects into strings for print statements is by .format() method. The syntax is:\n",
        "\n",
        "'String here {} then also {}'.format('something1','something2')\n",
        "\n"
      ],
      "metadata": {
        "id": "r1IKhqLQudbi"
      }
    },
    {
      "cell_type": "markdown",
      "source": [
        "HAVE MANY ADVANTAGES OVER %S METHOD\n",
        "\n",
        "1. Items can be called by their index"
      ],
      "metadata": {
        "id": "7fo0xvXwvCHz"
      }
    },
    {
      "cell_type": "code",
      "source": [
        "print('The {2} {1} {0}'.format('fox','brown','quick'))"
      ],
      "metadata": {
        "colab": {
          "base_uri": "https://localhost:8080/"
        },
        "id": "ObrLcGfovGmZ",
        "outputId": "448f7972-393e-4e40-8707-80f6c46c51d3"
      },
      "execution_count": 114,
      "outputs": [
        {
          "output_type": "stream",
          "name": "stdout",
          "text": [
            "The quick brown fox\n"
          ]
        }
      ]
    },
    {
      "cell_type": "markdown",
      "source": [
        "2. Inserted objects can be assigned keywords"
      ],
      "metadata": {
        "id": "gGaxMbwPvjfS"
      }
    },
    {
      "cell_type": "code",
      "source": [
        "print('first object: {a}, Second object: {b}, Third Object: {c}'.format(a=1,b='heheheh',c=12.3))"
      ],
      "metadata": {
        "colab": {
          "base_uri": "https://localhost:8080/"
        },
        "id": "ySWTmW_ivnvK",
        "outputId": "0a32fb44-428a-4b1f-b01f-13c2e41c9e0e"
      },
      "execution_count": 115,
      "outputs": [
        {
          "output_type": "stream",
          "name": "stdout",
          "text": [
            "first object: 1, Second object: heheheh, Third Object: 12.3\n"
          ]
        }
      ]
    },
    {
      "cell_type": "markdown",
      "source": [
        "3. Inserted objects can be reused, avoiding duplication\n"
      ],
      "metadata": {
        "id": "SFM67mjbwQfL"
      }
    },
    {
      "cell_type": "code",
      "source": [
        "print('He %s clever but also %s introvert'%('is','is'))\n",
        "\n",
        "#v/s\n",
        "\n",
        "print('He {p} clever but also {p} introvert'.format(p='is'))"
      ],
      "metadata": {
        "colab": {
          "base_uri": "https://localhost:8080/"
        },
        "id": "KtT9375dwXck",
        "outputId": "114b751d-e65b-4cd8-8d5e-c4dc22b414f4"
      },
      "execution_count": 117,
      "outputs": [
        {
          "output_type": "stream",
          "name": "stdout",
          "text": [
            "He is clever but also is introvert\n",
            "He is clever but also is introvert\n"
          ]
        }
      ]
    },
    {
      "cell_type": "markdown",
      "source": [
        "FORMATTED STRING ELEMENTS(F STRINGS)\n",
        "\n",
        "You can bring outside variables immediately into the strings rather than pass them as arguements tho.\n"
      ],
      "metadata": {
        "id": "68iWHQ4XyOZF"
      }
    },
    {
      "cell_type": "code",
      "source": [
        "name='Fred'\n",
        "\n",
        "print(f'His name is {name}.')"
      ],
      "metadata": {
        "colab": {
          "base_uri": "https://localhost:8080/"
        },
        "id": "SktytU7oykNb",
        "outputId": "46520491-67bc-4310-baff-231f03504c7b"
      },
      "execution_count": 118,
      "outputs": [
        {
          "output_type": "stream",
          "name": "stdout",
          "text": [
            "His name is Fred.\n"
          ]
        }
      ]
    },
    {
      "cell_type": "markdown",
      "source": [
        "Pass !r ot get representation "
      ],
      "metadata": {
        "id": "Vbb-CvEryuhJ"
      }
    },
    {
      "cell_type": "code",
      "source": [
        "print(f'His name is {name!r}.')"
      ],
      "metadata": {
        "colab": {
          "base_uri": "https://localhost:8080/"
        },
        "id": "_s5p4LM2yspe",
        "outputId": "b1076158-ac0a-4fa5-b52b-bcce8f6251a9"
      },
      "execution_count": 120,
      "outputs": [
        {
          "output_type": "stream",
          "name": "stdout",
          "text": [
            "His name is 'Fred'.\n"
          ]
        }
      ]
    },
    {
      "cell_type": "markdown",
      "source": [
        "FLOAT FORMATTING FOLLOWS: \"result: {value:{width}.{precision}}\".\n",
        "\n",
        "With the .format() ,method you might see {value:10.4f}, with f strings they can become {value.{10}.{6}}\n"
      ],
      "metadata": {
        "id": "FLH6PJv9y8P3"
      }
    },
    {
      "cell_type": "code",
      "source": [
        "num = 23.45678\n",
        "\n",
        "print(\"My 10 character, four decimal number is:{0:10.4f}\".format(num))\n",
        "print(f\"My 10 character, four decimal number is:{num:{10}.{6}}\")"
      ],
      "metadata": {
        "colab": {
          "base_uri": "https://localhost:8080/"
        },
        "id": "t6f1Ck76zlvh",
        "outputId": "2aef2db1-934e-4220-c06e-3cc0654e2f50"
      },
      "execution_count": 123,
      "outputs": [
        {
          "output_type": "stream",
          "name": "stdout",
          "text": [
            "My 10 character, four decimal number is:   23.4568\n",
            "My 10 character, four decimal number is:   23.4568\n"
          ]
        }
      ]
    }
  ]
}