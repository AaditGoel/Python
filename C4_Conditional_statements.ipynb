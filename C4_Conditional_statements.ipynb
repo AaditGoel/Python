{
  "nbformat": 4,
  "nbformat_minor": 0,
  "metadata": {
    "colab": {
      "name": "C4_Conditional_statements.ipynb",
      "provenance": [],
      "authorship_tag": "ABX9TyO1tn9nrv06ALdvSnegVL+E",
      "include_colab_link": true
    },
    "kernelspec": {
      "name": "python3",
      "display_name": "Python 3"
    },
    "language_info": {
      "name": "python"
    }
  },
  "cells": [
    {
      "cell_type": "markdown",
      "metadata": {
        "id": "view-in-github",
        "colab_type": "text"
      },
      "source": [
        "<a href=\"https://colab.research.google.com/github/AaditGoel/Python/blob/main/C4_Conditional_statements.ipynb\" target=\"_parent\"><img src=\"https://colab.research.google.com/assets/colab-badge.svg\" alt=\"Open In Colab\"/></a>"
      ]
    },
    {
      "cell_type": "code",
      "execution_count": 3,
      "metadata": {
        "colab": {
          "base_uri": "https://localhost:8080/"
        },
        "id": "McZSpLiG38eD",
        "outputId": "61d52651-0157-4d9b-a7c5-04499348d1d1"
      },
      "outputs": [
        {
          "output_type": "stream",
          "name": "stdout",
          "text": [
            "<class 'list'> 2\n"
          ]
        }
      ],
      "source": [
        "a=['a','b']\n",
        "print(type(a),len(a))"
      ]
    },
    {
      "cell_type": "markdown",
      "source": [
        "CONDITIONAL STATEMENTS:\n",
        "\n",
        "if,elif,else......"
      ],
      "metadata": {
        "id": "ArnZKD3S73Si"
      }
    },
    {
      "cell_type": "code",
      "source": [
        "x=10\n",
        "if(x<25):   #True\n",
        "  print(\"x is less than {}\".format(25))"
      ],
      "metadata": {
        "colab": {
          "base_uri": "https://localhost:8080/"
        },
        "id": "J1mhudV78iYy",
        "outputId": "c804157f-1c51-4d8e-c36f-8e9bd5dd104e"
      },
      "execution_count": 5,
      "outputs": [
        {
          "output_type": "stream",
          "name": "stdout",
          "text": [
            "x is less than 25\n"
          ]
        }
      ]
    },
    {
      "cell_type": "code",
      "source": [
        "x=10\n",
        "if(x>25):   #False\n",
        "  print(\"x is more than {}\".format(25))\n",
        "else:\n",
        "  print(\"x is less tha {p}\".format(p=25))"
      ],
      "metadata": {
        "colab": {
          "base_uri": "https://localhost:8080/"
        },
        "id": "47Hmpg3R84Qp",
        "outputId": "d68dd6b8-863e-4fe7-a9fd-c83c1f371ed8"
      },
      "execution_count": 8,
      "outputs": [
        {
          "output_type": "stream",
          "name": "stdout",
          "text": [
            "x is less tha 25\n"
          ]
        }
      ]
    },
    {
      "cell_type": "code",
      "source": [
        "x=10\n",
        "if(x>25):   \n",
        "  print(\"x is less than {}\".format(x))\n",
        "print(\"hello world\") #since this line does nit have one tab space it will be printed irrespective of the if statement"
      ],
      "metadata": {
        "colab": {
          "base_uri": "https://localhost:8080/"
        },
        "id": "imU-Ms2f9OTM",
        "outputId": "0a81d13f-3fec-4197-8ccf-69e4f0605e30"
      },
      "execution_count": 11,
      "outputs": [
        {
          "output_type": "stream",
          "name": "stdout",
          "text": [
            "hello world\n"
          ]
        }
      ]
    },
    {
      "cell_type": "code",
      "source": [
        "x=10\n",
        "if(x>25):   #True\n",
        "  print(\"x is less than {}\".format(x))\n",
        "  print(\"deep learning\")\n",
        "print(\"hello world\")\n",
        "print(\"machine learning\")"
      ],
      "metadata": {
        "colab": {
          "base_uri": "https://localhost:8080/"
        },
        "id": "FvWhVLwd-Cvc",
        "outputId": "90a40123-813e-4a65-9470-8fe9378540f8"
      },
      "execution_count": 12,
      "outputs": [
        {
          "output_type": "stream",
          "name": "stdout",
          "text": [
            "hello world\n",
            "machine learning\n"
          ]
        }
      ]
    },
    {
      "cell_type": "code",
      "source": [
        "#nested if statements \n",
        "\n",
        "x=10\n",
        "\n",
        "if(x<25):\n",
        "  print(\"x is less than 25\")\n",
        "  print(\"hello skillvoid\")\n",
        "  if(x<50):\n",
        "    print('x is less than 50')\n",
        "    print('Machine learning')\n",
        "    if(x>75):\n",
        "      print('x is less than 75')\n",
        "    print(\"sublevel 2 completed\")\n",
        "  print(\"sublevel 1 completed \")\n",
        "print(\"Original level\")\n",
        "print(\"Hello world\")\n",
        "print(\"deep learning\")"
      ],
      "metadata": {
        "colab": {
          "base_uri": "https://localhost:8080/"
        },
        "id": "QYIP0unaA7C4",
        "outputId": "d12d38b3-e1f9-4ad3-dbe1-b36853c07b6d"
      },
      "execution_count": 19,
      "outputs": [
        {
          "output_type": "stream",
          "name": "stdout",
          "text": [
            "x is less than 25\n",
            "hello skillvoid\n",
            "x is less than 50\n",
            "Machine learning\n",
            "sublevel 2 completed\n",
            "sublevel 1 completed \n",
            "Original level\n",
            "Hello world\n",
            "deep learning\n"
          ]
        }
      ]
    },
    {
      "cell_type": "code",
      "source": [
        "#if-else statements\n",
        "\n",
        "x=26\n",
        "if(x<50):\n",
        "  print(\"x is less than 50\")\n",
        "  print(\"hello skillvoid\")\n",
        "else:\n",
        "  print(\"x is greater than 50\")\n",
        "  print(\"Hello world\")\n",
        "print(\"something else\")"
      ],
      "metadata": {
        "colab": {
          "base_uri": "https://localhost:8080/"
        },
        "id": "Bh3u5PNvBTN1",
        "outputId": "17c70157-e63c-4352-9ec3-0b22b494bca6"
      },
      "execution_count": 20,
      "outputs": [
        {
          "output_type": "stream",
          "name": "stdout",
          "text": [
            "x is less than 50\n",
            "hello skillvoid\n",
            "something else\n"
          ]
        }
      ]
    },
    {
      "cell_type": "code",
      "source": [
        "x=100\n",
        "if(x<50):\n",
        "  print(\"x is less than 50\")\n",
        "  print(\"hello skillvoid\")\n",
        "else:\n",
        "  if(x<100):\n",
        "    print(\"x is less than 100\")\n",
        "  else:\n",
        "    print(\"do nothing\")\n",
        "print(\"something else\")"
      ],
      "metadata": {
        "colab": {
          "base_uri": "https://localhost:8080/"
        },
        "id": "d_DP7YHCDKqF",
        "outputId": "b33456ce-867e-4cd9-adb3-5b7dd98a03bf"
      },
      "execution_count": 21,
      "outputs": [
        {
          "output_type": "stream",
          "name": "stdout",
          "text": [
            "do nothing\n",
            "something else\n"
          ]
        }
      ]
    },
    {
      "cell_type": "code",
      "source": [
        "x=10\n",
        "if(x<50):\n",
        "  print(\"x is less than 50\")\n",
        "  print(\"hello skillvoid\")\n",
        "elif(x<100):\n",
        "  print(\"x is less than 100\")\n",
        "else:\n",
        "  print(\"do nothing\")\n",
        "print(\"somethoing else\")"
      ],
      "metadata": {
        "colab": {
          "base_uri": "https://localhost:8080/"
        },
        "id": "3_VnsmMBDq3B",
        "outputId": "bda4c266-a3b6-442a-d610-518dbb333455"
      },
      "execution_count": 23,
      "outputs": [
        {
          "output_type": "stream",
          "name": "stdout",
          "text": [
            "x is less than 50\n",
            "hello skillvoid\n",
            "somethoing else\n"
          ]
        }
      ]
    },
    {
      "cell_type": "markdown",
      "source": [
        "WAP to get input from user, and check if it is even or not. Print if it is even r not .\n",
        "\n",
        "Create a pythin list and and add the input value to it "
      ],
      "metadata": {
        "id": "mCSm3tl1ENyc"
      }
    },
    {
      "cell_type": "code",
      "source": [
        "x = int(input(\"Enter a number: \"))\n",
        "\n",
        "if(x%2==0):\n",
        "  print(\"Even\")\n",
        "else:\n",
        "  print(\"Odd\")\n",
        "\n",
        "l=[]\n",
        "l.append(x)\n",
        "print(l)"
      ],
      "metadata": {
        "colab": {
          "base_uri": "https://localhost:8080/"
        },
        "id": "y09QmQWUEM51",
        "outputId": "021e5a32-16bb-41fc-dcba-8d4aa7d0b750"
      },
      "execution_count": 25,
      "outputs": [
        {
          "output_type": "stream",
          "name": "stdout",
          "text": [
            "Enter a number: 9\n",
            "Odd\n",
            "[9]\n"
          ]
        }
      ]
    },
    {
      "cell_type": "code",
      "source": [
        "#for and while loops \n",
        "\n",
        "num=int(input(\"Enter a number\"))\n",
        "count=0\n",
        "while count<num :\n",
        "  print(count)\n",
        "  count=count+1\n",
        "else:\n",
        "  print(\"after while\")\n"
      ],
      "metadata": {
        "colab": {
          "base_uri": "https://localhost:8080/"
        },
        "id": "cQ2aYqDyGNRI",
        "outputId": "7475e7a9-fe80-40e7-ed79-0df20a4b92c2"
      },
      "execution_count": 29,
      "outputs": [
        {
          "output_type": "stream",
          "name": "stdout",
          "text": [
            "Enter a number6\n",
            "0\n",
            "1\n",
            "2\n",
            "3\n",
            "4\n",
            "5\n",
            "after while\n"
          ]
        }
      ]
    },
    {
      "cell_type": "code",
      "source": [
        "emp=['john','james','smith']\n",
        "\n",
        "for name in emp:\n",
        "  print(name)"
      ],
      "metadata": {
        "colab": {
          "base_uri": "https://localhost:8080/"
        },
        "id": "owdNlM_SJAtv",
        "outputId": "c128a4ff-30ca-4aba-d13f-6cfd214c4e02"
      },
      "execution_count": 30,
      "outputs": [
        {
          "output_type": "stream",
          "name": "stdout",
          "text": [
            "john\n",
            "james\n",
            "smith\n"
          ]
        }
      ]
    },
    {
      "cell_type": "code",
      "source": [
        "for _ in emp:\n",
        "  print(\"executed\")"
      ],
      "metadata": {
        "colab": {
          "base_uri": "https://localhost:8080/"
        },
        "id": "y1rP7AVMKBL5",
        "outputId": "4347fc93-65aa-47b0-9be4-f2de8b6b9918"
      },
      "execution_count": 31,
      "outputs": [
        {
          "output_type": "stream",
          "name": "stdout",
          "text": [
            "executed\n",
            "executed\n",
            "executed\n"
          ]
        }
      ]
    },
    {
      "cell_type": "code",
      "source": [
        "s=\"welcome\"\n",
        "for i in s:\n",
        "  print(i)"
      ],
      "metadata": {
        "colab": {
          "base_uri": "https://localhost:8080/"
        },
        "id": "HNZTVKb8KIc-",
        "outputId": "5522157f-2de5-410e-ac96-ea6edf09889f"
      },
      "execution_count": 32,
      "outputs": [
        {
          "output_type": "stream",
          "name": "stdout",
          "text": [
            "w\n",
            "e\n",
            "l\n",
            "c\n",
            "o\n",
            "m\n",
            "e\n"
          ]
        }
      ]
    },
    {
      "cell_type": "code",
      "source": [
        "tup1=(1,2,3,4)\n",
        "for i in tup1:\n",
        "  print(i)"
      ],
      "metadata": {
        "colab": {
          "base_uri": "https://localhost:8080/"
        },
        "id": "YnzNrsE3KOOw",
        "outputId": "161b4947-16ac-4367-b122-a4d90cb1c2ac"
      },
      "execution_count": 33,
      "outputs": [
        {
          "output_type": "stream",
          "name": "stdout",
          "text": [
            "1\n",
            "2\n",
            "3\n",
            "4\n"
          ]
        }
      ]
    },
    {
      "cell_type": "code",
      "source": [
        "#range\n",
        "a=range(1,10,3)\n",
        "a"
      ],
      "metadata": {
        "colab": {
          "base_uri": "https://localhost:8080/"
        },
        "id": "ixo7ryg3Kr-r",
        "outputId": "808b5b4e-c2c5-41ce-93e8-5da3f8ecb010"
      },
      "execution_count": 38,
      "outputs": [
        {
          "output_type": "execute_result",
          "data": {
            "text/plain": [
              "range(1, 10, 3)"
            ]
          },
          "metadata": {},
          "execution_count": 38
        }
      ]
    },
    {
      "cell_type": "code",
      "source": [
        "list(a)"
      ],
      "metadata": {
        "colab": {
          "base_uri": "https://localhost:8080/"
        },
        "id": "QGXrW6WcKv8H",
        "outputId": "93f26187-b235-4d9c-d3f2-e07ca18a58f7"
      },
      "execution_count": 39,
      "outputs": [
        {
          "output_type": "execute_result",
          "data": {
            "text/plain": [
              "[1, 4, 7]"
            ]
          },
          "metadata": {},
          "execution_count": 39
        }
      ]
    },
    {
      "cell_type": "code",
      "source": [],
      "metadata": {
        "id": "E6oAmTzpKyy2"
      },
      "execution_count": null,
      "outputs": []
    }
  ]
}