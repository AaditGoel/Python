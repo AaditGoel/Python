{
  "nbformat": 4,
  "nbformat_minor": 0,
  "metadata": {
    "colab": {
      "name": "C5_Functions_lambda.ipynb",
      "provenance": [],
      "authorship_tag": "ABX9TyPIlKnjABrP2QpDOxcLaYu1",
      "include_colab_link": true
    },
    "kernelspec": {
      "name": "python3",
      "display_name": "Python 3"
    },
    "language_info": {
      "name": "python"
    }
  },
  "cells": [
    {
      "cell_type": "markdown",
      "metadata": {
        "id": "view-in-github",
        "colab_type": "text"
      },
      "source": [
        "<a href=\"https://colab.research.google.com/github/AaditGoel/Python/blob/main/C5_Functions_lambda.ipynb\" target=\"_parent\"><img src=\"https://colab.research.google.com/assets/colab-badge.svg\" alt=\"Open In Colab\"/></a>"
      ]
    },
    {
      "cell_type": "code",
      "execution_count": null,
      "metadata": {
        "colab": {
          "base_uri": "https://localhost:8080/"
        },
        "id": "MU2HmIF1K_Lq",
        "outputId": "76ccc154-356c-47e5-d51e-e275c08be7b3"
      },
      "outputs": [
        {
          "output_type": "stream",
          "name": "stdout",
          "text": [
            "Enter the size of pattern: 5\n",
            "1 \n",
            "\n",
            "1 2 \n",
            "\n",
            "1 2 3 \n",
            "\n",
            "1 2 3 4 \n",
            "\n",
            "1 2 3 4 5 \n",
            "\n"
          ]
        }
      ],
      "source": [
        "n=int(input(\"Enter the size of pattern: \"))\n",
        "for i in range(1,n+1): #nested for loop\n",
        "  for j in range(1,i+1):\n",
        "    print(j,end=\" \")   #end is imp for the pattern\n",
        "  print(\"\\n\")"
      ]
    },
    {
      "cell_type": "code",
      "source": [
        "for i in range(1,11):\n",
        "  if i==5 :\n",
        "    break\n",
        "  print(i)\n",
        "print(\"something else\")"
      ],
      "metadata": {
        "colab": {
          "base_uri": "https://localhost:8080/"
        },
        "id": "F-xVml3gOigl",
        "outputId": "e5e80716-ce6a-4a63-cd8c-dedae6494aaf"
      },
      "execution_count": null,
      "outputs": [
        {
          "output_type": "stream",
          "name": "stdout",
          "text": [
            "1\n",
            "2\n",
            "3\n",
            "4\n",
            "something else\n"
          ]
        }
      ]
    },
    {
      "cell_type": "code",
      "source": [
        "for i in range(1,11):\n",
        "  if i==5 :\n",
        "    continue\n",
        "  print(i)\n",
        "print(\"something else\")"
      ],
      "metadata": {
        "colab": {
          "base_uri": "https://localhost:8080/"
        },
        "id": "fizjrkW7O17b",
        "outputId": "fbe21ce1-ec3b-4659-db29-6d61ebbb5817"
      },
      "execution_count": null,
      "outputs": [
        {
          "output_type": "stream",
          "name": "stdout",
          "text": [
            "1\n",
            "2\n",
            "3\n",
            "4\n",
            "6\n",
            "7\n",
            "8\n",
            "9\n",
            "10\n",
            "something else\n"
          ]
        }
      ]
    },
    {
      "cell_type": "code",
      "source": [
        "for i in range(1,11):\n",
        "  if i==5 :\n",
        "    pass  #does nothing \n",
        "  print(i)\n",
        "print(\"something else\")"
      ],
      "metadata": {
        "colab": {
          "base_uri": "https://localhost:8080/"
        },
        "id": "IiISttQ6PBjm",
        "outputId": "4642224a-1053-4501-dc4f-c3ad7ec8cf54"
      },
      "execution_count": null,
      "outputs": [
        {
          "output_type": "stream",
          "name": "stdout",
          "text": [
            "1\n",
            "2\n",
            "3\n",
            "4\n",
            "5\n",
            "6\n",
            "7\n",
            "8\n",
            "9\n",
            "10\n",
            "something else\n"
          ]
        }
      ]
    },
    {
      "cell_type": "code",
      "source": [
        "#check a number is prime\n",
        "n=int(input(\"Enter the number to be checked: \"))\n",
        "bool=True\n",
        "for i in range(2,n):\n",
        "  if n%i == 0 :\n",
        "    bool=False\n",
        "    break\n",
        "  \n",
        "if bool:\n",
        "  print(n,'is a prime')\n",
        "else:\n",
        "  print(n,'is not a prime')"
      ],
      "metadata": {
        "colab": {
          "base_uri": "https://localhost:8080/"
        },
        "id": "2k6Vy38lPXEO",
        "outputId": "3186a0cb-2374-4f26-c593-3ace40e6f826"
      },
      "execution_count": null,
      "outputs": [
        {
          "output_type": "stream",
          "name": "stdout",
          "text": [
            "Enter the number to be checked: 5\n",
            "5 is a prime\n"
          ]
        }
      ]
    },
    {
      "cell_type": "code",
      "source": [
        "#print the cube of a number\n",
        "\n",
        "while True:\n",
        "  value=input('Enter a number: ')\n",
        "  if value=='q':\n",
        "    print('Exit program(break statement is executed)...')\n",
        "    break\n",
        " \n",
        "  if not value.isdigit():\n",
        "    #if input is not a digit move on to next iteration\n",
        "    print(\"Enter digits only(continue statement executed)...\")\n",
        "    continue\n",
        "  value=int(value)\n",
        "  print('cube of ',value,'is ',value**3)"
      ],
      "metadata": {
        "colab": {
          "base_uri": "https://localhost:8080/"
        },
        "id": "BRTAe9urQYXv",
        "outputId": "d24d9cb6-4d6e-481d-ef08-f41e9291a501"
      },
      "execution_count": null,
      "outputs": [
        {
          "output_type": "stream",
          "name": "stdout",
          "text": [
            "Enter a number: 5\n",
            "cube of  5 is  125\n",
            "Enter a number: 6\n",
            "cube of  6 is  216\n",
            "Enter a number: q\n",
            "Exit program(break statement is executed)...\n"
          ]
        }
      ]
    },
    {
      "cell_type": "markdown",
      "source": [
        "**FUNCTIONS:**\n",
        "\n",
        "In comouter programming, a function is known as a section of code that performs a specific task. This typically involves taking some input, manipulating the input and giving the output.\n",
        "\n",
        "Function in python is defined by 'def' statement followed by the function name and parenthesis ( {} )"
      ],
      "metadata": {
        "id": "0Ds7RnGiT5tl"
      }
    },
    {
      "cell_type": "code",
      "source": [
        "def Example():\n",
        "  print(\"good morning\")"
      ],
      "metadata": {
        "id": "j2d6mwFLUWwq"
      },
      "execution_count": null,
      "outputs": []
    },
    {
      "cell_type": "code",
      "source": [
        "Example() #function call\n"
      ],
      "metadata": {
        "colab": {
          "base_uri": "https://localhost:8080/"
        },
        "id": "-aghy6f4UwYx",
        "outputId": "0f40abe8-2ab6-4ae7-d617-042ec442b75e"
      },
      "execution_count": null,
      "outputs": [
        {
          "output_type": "stream",
          "name": "stdout",
          "text": [
            "good morning\n"
          ]
        }
      ]
    },
    {
      "cell_type": "code",
      "source": [
        "Example('hello')"
      ],
      "metadata": {
        "colab": {
          "base_uri": "https://localhost:8080/",
          "height": 165
        },
        "id": "6enE9PgIU2jv",
        "outputId": "8101d833-a55d-4a78-c6f3-fe9f82edc9b2"
      },
      "execution_count": null,
      "outputs": [
        {
          "output_type": "error",
          "ename": "TypeError",
          "evalue": "ignored",
          "traceback": [
            "\u001b[0;31m---------------------------------------------------------------------------\u001b[0m",
            "\u001b[0;31mTypeError\u001b[0m                                 Traceback (most recent call last)",
            "\u001b[0;32m<ipython-input-21-1143078603f7>\u001b[0m in \u001b[0;36m<module>\u001b[0;34m\u001b[0m\n\u001b[0;32m----> 1\u001b[0;31m \u001b[0mExample\u001b[0m\u001b[0;34m(\u001b[0m\u001b[0;34m'hello'\u001b[0m\u001b[0;34m)\u001b[0m\u001b[0;34m\u001b[0m\u001b[0;34m\u001b[0m\u001b[0m\n\u001b[0m",
            "\u001b[0;31mTypeError\u001b[0m: Example() takes 0 positional arguments but 1 was given"
          ]
        }
      ]
    },
    {
      "cell_type": "code",
      "source": [
        "def SKILL_VOID(x):\n",
        "  if x=='B.TECH':\n",
        "    print(\"Hurray! \")\n",
        "  else:\n",
        "    print(\"Oh! better luck next time\")\n"
      ],
      "metadata": {
        "id": "eYxvLGc2U6iF"
      },
      "execution_count": null,
      "outputs": []
    },
    {
      "cell_type": "code",
      "source": [
        "SKILL_VOID('B.TECH')"
      ],
      "metadata": {
        "colab": {
          "base_uri": "https://localhost:8080/"
        },
        "id": "GgOyi4HRVwLb",
        "outputId": "daf0a877-86ef-4eeb-a1bc-9d89f7238990"
      },
      "execution_count": null,
      "outputs": [
        {
          "output_type": "stream",
          "name": "stdout",
          "text": [
            "Hurray! \n"
          ]
        }
      ]
    },
    {
      "cell_type": "code",
      "source": [
        "SKILL_VOID(7)"
      ],
      "metadata": {
        "colab": {
          "base_uri": "https://localhost:8080/"
        },
        "id": "yLaXoLztV0Td",
        "outputId": "f6947cce-c190-4dae-e253-654f21b90ef6"
      },
      "execution_count": null,
      "outputs": [
        {
          "output_type": "stream",
          "name": "stdout",
          "text": [
            "Oh! better luck next time\n"
          ]
        }
      ]
    },
    {
      "cell_type": "code",
      "source": [
        "def Ex_2(name):\n",
        "  print('good morning', name)"
      ],
      "metadata": {
        "id": "ARJVcYofV3YY"
      },
      "execution_count": null,
      "outputs": []
    },
    {
      "cell_type": "code",
      "source": [
        "Ex_2('john')"
      ],
      "metadata": {
        "colab": {
          "base_uri": "https://localhost:8080/"
        },
        "id": "1z52muUMWaow",
        "outputId": "5e7a2333-38c0-4a31-a0dc-948888d4da0c"
      },
      "execution_count": null,
      "outputs": [
        {
          "output_type": "stream",
          "name": "stdout",
          "text": [
            "good morning john\n"
          ]
        }
      ]
    },
    {
      "cell_type": "code",
      "source": [
        "def ex_3(name,age):\n",
        "  print('good morning',name,'AGE: ',age)"
      ],
      "metadata": {
        "id": "ctJ_lmBIWtAX"
      },
      "execution_count": null,
      "outputs": []
    },
    {
      "cell_type": "code",
      "source": [
        "ex_3('john',34)"
      ],
      "metadata": {
        "colab": {
          "base_uri": "https://localhost:8080/"
        },
        "id": "DQPIE6zbW2bZ",
        "outputId": "a59c578a-a664-4f7a-aab4-0c38535adc28"
      },
      "execution_count": null,
      "outputs": [
        {
          "output_type": "stream",
          "name": "stdout",
          "text": [
            "good morning john AGE:  34\n"
          ]
        }
      ]
    },
    {
      "cell_type": "code",
      "source": [
        "def print_msg(string,count=10):\n",
        "  i=0\n",
        "  while i<count:\n",
        "    print(string)\n",
        "    i+=1\n"
      ],
      "metadata": {
        "id": "fD33iXGZW5sT"
      },
      "execution_count": null,
      "outputs": []
    },
    {
      "cell_type": "code",
      "source": [
        "print_msg('Hiiiii')"
      ],
      "metadata": {
        "colab": {
          "base_uri": "https://localhost:8080/"
        },
        "id": "9HzdlZCTXiy_",
        "outputId": "595086e2-53f5-469a-9620-d7c0ff019d4a"
      },
      "execution_count": null,
      "outputs": [
        {
          "output_type": "stream",
          "name": "stdout",
          "text": [
            "Hiiiii\n",
            "Hiiiii\n",
            "Hiiiii\n",
            "Hiiiii\n",
            "Hiiiii\n",
            "Hiiiii\n",
            "Hiiiii\n",
            "Hiiiii\n",
            "Hiiiii\n",
            "Hiiiii\n"
          ]
        }
      ]
    },
    {
      "cell_type": "code",
      "source": [
        "print_msg('hellu',4)"
      ],
      "metadata": {
        "colab": {
          "base_uri": "https://localhost:8080/"
        },
        "id": "eb3qjM6pX2Nr",
        "outputId": "0e998c1c-7b0b-4d13-9831-212c3e3ef4f4"
      },
      "execution_count": null,
      "outputs": [
        {
          "output_type": "stream",
          "name": "stdout",
          "text": [
            "hellu\n",
            "hellu\n",
            "hellu\n",
            "hellu\n"
          ]
        }
      ]
    },
    {
      "cell_type": "code",
      "source": [
        "#Python program to illustrate\n",
        "# *args for variabke number if arguements\n",
        "\n",
        "def myFun(*args):\n",
        "  print(type(args))\n",
        "  for arg in args:\n",
        "    print(arg)\n",
        "\n",
        "#if star is not used, it should be given only one arguement but with * you can give any number of args\n",
        "\n",
        "myFun('hello','welcome','to','deep learning')"
      ],
      "metadata": {
        "colab": {
          "base_uri": "https://localhost:8080/"
        },
        "id": "bXB2YV56f2x4",
        "outputId": "daaa5977-5983-48c9-fbfe-eff0aab5fb3f"
      },
      "execution_count": null,
      "outputs": [
        {
          "output_type": "stream",
          "name": "stdout",
          "text": [
            "<class 'tuple'>\n",
            "hello\n",
            "welcome\n",
            "to\n",
            "deep learning\n"
          ]
        }
      ]
    },
    {
      "cell_type": "code",
      "source": [
        "myFun() #no error"
      ],
      "metadata": {
        "colab": {
          "base_uri": "https://localhost:8080/"
        },
        "id": "YjIysi2chDec",
        "outputId": "06314e57-b14c-4b9e-e793-92978297b9db"
      },
      "execution_count": null,
      "outputs": [
        {
          "output_type": "stream",
          "name": "stdout",
          "text": [
            "<class 'tuple'>\n"
          ]
        }
      ]
    },
    {
      "cell_type": "code",
      "source": [
        "def my_fun(x,y):\n",
        "  return x**y\n"
      ],
      "metadata": {
        "id": "xLI3x-XChPiW"
      },
      "execution_count": null,
      "outputs": []
    },
    {
      "cell_type": "code",
      "source": [
        "my_fun(a=10,b=50,c=60)"
      ],
      "metadata": {
        "colab": {
          "base_uri": "https://localhost:8080/",
          "height": 165
        },
        "id": "NZIU_W3RhWG9",
        "outputId": "72cfea43-cbf8-41ab-8436-df294b3da9bc"
      },
      "execution_count": null,
      "outputs": [
        {
          "output_type": "error",
          "ename": "TypeError",
          "evalue": "ignored",
          "traceback": [
            "\u001b[0;31m---------------------------------------------------------------------------\u001b[0m",
            "\u001b[0;31mTypeError\u001b[0m                                 Traceback (most recent call last)",
            "\u001b[0;32m<ipython-input-49-c79a8f97eb5d>\u001b[0m in \u001b[0;36m<module>\u001b[0;34m\u001b[0m\n\u001b[0;32m----> 1\u001b[0;31m \u001b[0mmy_fun\u001b[0m\u001b[0;34m(\u001b[0m\u001b[0ma\u001b[0m\u001b[0;34m=\u001b[0m\u001b[0;36m10\u001b[0m\u001b[0;34m,\u001b[0m\u001b[0mb\u001b[0m\u001b[0;34m=\u001b[0m\u001b[0;36m50\u001b[0m\u001b[0;34m,\u001b[0m\u001b[0mc\u001b[0m\u001b[0;34m=\u001b[0m\u001b[0;36m60\u001b[0m\u001b[0;34m)\u001b[0m\u001b[0;34m\u001b[0m\u001b[0;34m\u001b[0m\u001b[0m\n\u001b[0m",
            "\u001b[0;31mTypeError\u001b[0m: my_fun() got an unexpected keyword argument 'a'"
          ]
        }
      ]
    },
    {
      "cell_type": "code",
      "source": [
        "d={'key1':123,\n",
        "   'key2':456,\n",
        "   'key3':789}\n",
        "d"
      ],
      "metadata": {
        "colab": {
          "base_uri": "https://localhost:8080/"
        },
        "id": "r6pYW4GBhqrA",
        "outputId": "3fe42cec-7d75-4cef-8ea7-27ef3c5630e9"
      },
      "execution_count": null,
      "outputs": [
        {
          "output_type": "execute_result",
          "data": {
            "text/plain": [
              "{'key1': 123, 'key2': 456, 'key3': 789}"
            ]
          },
          "metadata": {},
          "execution_count": 50
        }
      ]
    },
    {
      "cell_type": "code",
      "source": [
        "d.items()"
      ],
      "metadata": {
        "colab": {
          "base_uri": "https://localhost:8080/"
        },
        "id": "S09798Wph34v",
        "outputId": "eec6339f-ffac-42ed-b0cc-c7299b646bf7"
      },
      "execution_count": null,
      "outputs": [
        {
          "output_type": "execute_result",
          "data": {
            "text/plain": [
              "dict_items([('key1', 123), ('key2', 456), ('key3', 789)])"
            ]
          },
          "metadata": {},
          "execution_count": 51
        }
      ]
    },
    {
      "cell_type": "code",
      "source": [
        "#**kwargs -------> key word arguements\n",
        "def myFun(**kwargs):\n",
        "  print(kwargs)\n",
        "  print(type(kwargs))\n",
        "  for key,value in kwargs.items():\n",
        "           print(f'key: {key} --- value : {value}')\n",
        "\n",
        "#Driver code\n",
        "myFun(first='deep',mid='learning',last='DL')"
      ],
      "metadata": {
        "colab": {
          "base_uri": "https://localhost:8080/"
        },
        "id": "5XfE9BBCh7GB",
        "outputId": "c4738069-6a41-4c42-f58f-a94838908e76"
      },
      "execution_count": null,
      "outputs": [
        {
          "output_type": "stream",
          "name": "stdout",
          "text": [
            "{'first': 'deep', 'mid': 'learning', 'last': 'DL'}\n",
            "<class 'dict'>\n",
            "key: first --- value : deep\n",
            "key: mid --- value : learning\n",
            "key: last --- value : DL\n"
          ]
        }
      ]
    },
    {
      "cell_type": "markdown",
      "source": [
        "LAMBDA FUNCTIONS:\n",
        "\n",
        "lambda arguements : expression"
      ],
      "metadata": {
        "id": "XK5oxMcUjLtf"
      }
    },
    {
      "cell_type": "code",
      "source": [
        "add = lambda a,b:a+b #add is a function in which a,b(temporary variables) are defined for the command of a+B"
      ],
      "metadata": {
        "id": "3ID-KGFTmth_"
      },
      "execution_count": 2,
      "outputs": []
    },
    {
      "cell_type": "code",
      "source": [
        "type(add)"
      ],
      "metadata": {
        "colab": {
          "base_uri": "https://localhost:8080/"
        },
        "id": "WxH676zHnEHe",
        "outputId": "dbefef9d-77f3-4eaa-829f-34e5a29ae5fc"
      },
      "execution_count": 3,
      "outputs": [
        {
          "output_type": "execute_result",
          "data": {
            "text/plain": [
              "function"
            ]
          },
          "metadata": {},
          "execution_count": 3
        }
      ]
    },
    {
      "cell_type": "code",
      "source": [
        "add(4,5)"
      ],
      "metadata": {
        "colab": {
          "base_uri": "https://localhost:8080/"
        },
        "id": "4imzSU0LnW05",
        "outputId": "bf225fff-ea95-4577-fa93-10a6e1651d03"
      },
      "execution_count": 4,
      "outputs": [
        {
          "output_type": "execute_result",
          "data": {
            "text/plain": [
              "9"
            ]
          },
          "metadata": {},
          "execution_count": 4
        }
      ]
    },
    {
      "cell_type": "markdown",
      "source": [
        "**FILTER:**\n",
        "\n",
        "Syntax:\n",
        "filter(function,iterable)"
      ],
      "metadata": {
        "id": "sjhKb1xbncP1"
      }
    },
    {
      "cell_type": "code",
      "source": [
        "list_1=[1,2,3,4,5,6,7,8,9]\n",
        "filter(lambda x: x%2==0, list_1)\n",
        "#returns filter object"
      ],
      "metadata": {
        "colab": {
          "base_uri": "https://localhost:8080/"
        },
        "id": "6IWOHaJyn2dD",
        "outputId": "681111d3-3fe9-4120-f7c5-d1f52695a0ec"
      },
      "execution_count": 5,
      "outputs": [
        {
          "output_type": "execute_result",
          "data": {
            "text/plain": [
              "<filter at 0x7fd5419df850>"
            ]
          },
          "metadata": {},
          "execution_count": 5
        }
      ]
    },
    {
      "cell_type": "code",
      "source": [
        "#convert to list\n",
        "list(filter(lambda x: x%2==0, list_1))"
      ],
      "metadata": {
        "colab": {
          "base_uri": "https://localhost:8080/"
        },
        "id": "jevplQUnocvX",
        "outputId": "3ea1f51f-aa01-48f0-e085-a75dc815d4b9"
      },
      "execution_count": 6,
      "outputs": [
        {
          "output_type": "execute_result",
          "data": {
            "text/plain": [
              "[2, 4, 6, 8]"
            ]
          },
          "metadata": {},
          "execution_count": 6
        }
      ]
    },
    {
      "cell_type": "markdown",
      "source": [
        "MAP"
      ],
      "metadata": {
        "id": "QtNJCkx3oo7n"
      }
    },
    {
      "cell_type": "code",
      "source": [
        "#map(function,iterable)\n",
        "list_1=[1,2,3,4,5,6,7,8,9]\n",
        "map(lambda x: x**3,list_1)\n"
      ],
      "metadata": {
        "colab": {
          "base_uri": "https://localhost:8080/"
        },
        "id": "V2379DznooPA",
        "outputId": "494098c3-05c2-43bb-e372-92170618f061"
      },
      "execution_count": 12,
      "outputs": [
        {
          "output_type": "execute_result",
          "data": {
            "text/plain": [
              "<map at 0x7fd5419dc210>"
            ]
          },
          "metadata": {},
          "execution_count": 12
        }
      ]
    },
    {
      "cell_type": "code",
      "source": [
        "list(map(lambda x: x**3,list_1))"
      ],
      "metadata": {
        "colab": {
          "base_uri": "https://localhost:8080/"
        },
        "id": "h6NY-AG5p2_2",
        "outputId": "39cf50fd-965f-40c9-92d2-ab29c905fc60"
      },
      "execution_count": 13,
      "outputs": [
        {
          "output_type": "execute_result",
          "data": {
            "text/plain": [
              "[1, 8, 27, 64, 125, 216, 343, 512, 729]"
            ]
          },
          "metadata": {},
          "execution_count": 13
        }
      ]
    },
    {
      "cell_type": "markdown",
      "source": [
        "LIST COMPREHENSION:\n"
      ],
      "metadata": {
        "id": "6TpgPwZEq0GU"
      }
    },
    {
      "cell_type": "code",
      "source": [
        "a=[]\n",
        "for i in range(1,10):\n",
        "  a.append(i**2)"
      ],
      "metadata": {
        "id": "jwmCXT96q2JM"
      },
      "execution_count": 14,
      "outputs": []
    },
    {
      "cell_type": "code",
      "source": [
        "a\n",
        "#This requires 3-4 lines of code"
      ],
      "metadata": {
        "colab": {
          "base_uri": "https://localhost:8080/"
        },
        "id": "KIquh-hHrFQt",
        "outputId": "523347f4-9d50-4b2d-a79f-9b9e441b836a"
      },
      "execution_count": 15,
      "outputs": [
        {
          "output_type": "execute_result",
          "data": {
            "text/plain": [
              "[1, 4, 9, 16, 25, 36, 49, 64, 81]"
            ]
          },
          "metadata": {},
          "execution_count": 15
        }
      ]
    },
    {
      "cell_type": "code",
      "source": [
        "#Hence link comprehension can be used to do such things faster\n",
        "[num**2 for num in list_1]"
      ],
      "metadata": {
        "colab": {
          "base_uri": "https://localhost:8080/"
        },
        "id": "azNQauiqrLT4",
        "outputId": "8f78d278-c98f-4ac9-d8a0-4757862664fc"
      },
      "execution_count": 16,
      "outputs": [
        {
          "output_type": "execute_result",
          "data": {
            "text/plain": [
              "[1, 4, 9, 16, 25, 36, 49, 64, 81]"
            ]
          },
          "metadata": {},
          "execution_count": 16
        }
      ]
    },
    {
      "cell_type": "code",
      "source": [
        "\n",
        "[num**2 for num in list_1 if num%2==0]"
      ],
      "metadata": {
        "colab": {
          "base_uri": "https://localhost:8080/"
        },
        "id": "ocwCgiiJrh3P",
        "outputId": "8b6c363f-17d8-421d-97be-600e36d51b65"
      },
      "execution_count": 17,
      "outputs": [
        {
          "output_type": "execute_result",
          "data": {
            "text/plain": [
              "[4, 16, 36, 64]"
            ]
          },
          "metadata": {},
          "execution_count": 17
        }
      ]
    },
    {
      "cell_type": "markdown",
      "source": [
        "DICTIONARY EXPRESSION:\n",
        "\n",
        "{key exp: value_exp for exp in iterable}\n",
        "\n"
      ],
      "metadata": {
        "id": "6dWWsLdtr8Ti"
      }
    },
    {
      "cell_type": "code",
      "source": [
        "{i:i**2 for i in list_1}"
      ],
      "metadata": {
        "colab": {
          "base_uri": "https://localhost:8080/"
        },
        "id": "3pE1afTNsEyf",
        "outputId": "7f0b27a1-0e9f-4514-c829-812832816ee2"
      },
      "execution_count": 18,
      "outputs": [
        {
          "output_type": "execute_result",
          "data": {
            "text/plain": [
              "{1: 1, 2: 4, 3: 9, 4: 16, 5: 25, 6: 36, 7: 49, 8: 64, 9: 81}"
            ]
          },
          "metadata": {},
          "execution_count": 18
        }
      ]
    },
    {
      "cell_type": "code",
      "source": [
        "#zip\n",
        "string=list(\"abcdefghi\")\n",
        "string"
      ],
      "metadata": {
        "colab": {
          "base_uri": "https://localhost:8080/"
        },
        "id": "8wuJ_MB9sOu3",
        "outputId": "8efc047e-02df-49eb-e874-4b2efc85c331"
      },
      "execution_count": 19,
      "outputs": [
        {
          "output_type": "execute_result",
          "data": {
            "text/plain": [
              "['a', 'b', 'c', 'd', 'e', 'f', 'g', 'h', 'i']"
            ]
          },
          "metadata": {},
          "execution_count": 19
        }
      ]
    },
    {
      "cell_type": "code",
      "source": [
        "list(zip(string,list_1))"
      ],
      "metadata": {
        "colab": {
          "base_uri": "https://localhost:8080/"
        },
        "id": "pZre0-BHsjps",
        "outputId": "f4184be0-b38a-400e-933d-a006a738c2ec"
      },
      "execution_count": 24,
      "outputs": [
        {
          "output_type": "execute_result",
          "data": {
            "text/plain": [
              "[('a', 1),\n",
              " ('b', 2),\n",
              " ('c', 3),\n",
              " ('d', 4),\n",
              " ('e', 5),\n",
              " ('f', 6),\n",
              " ('g', 7),\n",
              " ('h', 8),\n",
              " ('i', 9)]"
            ]
          },
          "metadata": {},
          "execution_count": 24
        }
      ]
    },
    {
      "cell_type": "code",
      "source": [
        "for x,y in zip(string,list_1):\n",
        "  print(f'{x} and {y}')"
      ],
      "metadata": {
        "colab": {
          "base_uri": "https://localhost:8080/"
        },
        "id": "Gdv5M8CgsXVX",
        "outputId": "77302b74-3533-41e5-8c4a-7eccc2fef00c"
      },
      "execution_count": 23,
      "outputs": [
        {
          "output_type": "stream",
          "name": "stdout",
          "text": [
            "a and 1\n",
            "b and 2\n",
            "c and 3\n",
            "d and 4\n",
            "e and 5\n",
            "f and 6\n",
            "g and 7\n",
            "h and 8\n",
            "i and 9\n"
          ]
        }
      ]
    }
  ]
}