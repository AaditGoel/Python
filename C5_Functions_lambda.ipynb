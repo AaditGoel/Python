{
  "nbformat": 4,
  "nbformat_minor": 0,
  "metadata": {
    "colab": {
      "name": "C5_Functions_lambda.ipynb",
      "provenance": [],
      "authorship_tag": "ABX9TyPcuLgR/Z4WHHrAyaKVCUV3",
      "include_colab_link": true
    },
    "kernelspec": {
      "name": "python3",
      "display_name": "Python 3"
    },
    "language_info": {
      "name": "python"
    }
  },
  "cells": [
    {
      "cell_type": "markdown",
      "metadata": {
        "id": "view-in-github",
        "colab_type": "text"
      },
      "source": [
        "<a href=\"https://colab.research.google.com/github/AaditGoel/Python/blob/main/C5_Functions_lambda.ipynb\" target=\"_parent\"><img src=\"https://colab.research.google.com/assets/colab-badge.svg\" alt=\"Open In Colab\"/></a>"
      ]
    },
    {
      "cell_type": "code",
      "execution_count": 5,
      "metadata": {
        "colab": {
          "base_uri": "https://localhost:8080/"
        },
        "id": "MU2HmIF1K_Lq",
        "outputId": "76ccc154-356c-47e5-d51e-e275c08be7b3"
      },
      "outputs": [
        {
          "output_type": "stream",
          "name": "stdout",
          "text": [
            "Enter the size of pattern: 5\n",
            "1 \n",
            "\n",
            "1 2 \n",
            "\n",
            "1 2 3 \n",
            "\n",
            "1 2 3 4 \n",
            "\n",
            "1 2 3 4 5 \n",
            "\n"
          ]
        }
      ],
      "source": [
        "n=int(input(\"Enter the size of pattern: \"))\n",
        "for i in range(1,n+1): #nested for loop\n",
        "  for j in range(1,i+1):\n",
        "    print(j,end=\" \")   #end is imp for the pattern\n",
        "  print(\"\\n\")"
      ]
    },
    {
      "cell_type": "code",
      "source": [
        "for i in range(1,11):\n",
        "  if i==5 :\n",
        "    break\n",
        "  print(i)\n",
        "print(\"something else\")"
      ],
      "metadata": {
        "colab": {
          "base_uri": "https://localhost:8080/"
        },
        "id": "F-xVml3gOigl",
        "outputId": "e5e80716-ce6a-4a63-cd8c-dedae6494aaf"
      },
      "execution_count": 6,
      "outputs": [
        {
          "output_type": "stream",
          "name": "stdout",
          "text": [
            "1\n",
            "2\n",
            "3\n",
            "4\n",
            "something else\n"
          ]
        }
      ]
    },
    {
      "cell_type": "code",
      "source": [
        "for i in range(1,11):\n",
        "  if i==5 :\n",
        "    continue\n",
        "  print(i)\n",
        "print(\"something else\")"
      ],
      "metadata": {
        "colab": {
          "base_uri": "https://localhost:8080/"
        },
        "id": "fizjrkW7O17b",
        "outputId": "fbe21ce1-ec3b-4659-db29-6d61ebbb5817"
      },
      "execution_count": 7,
      "outputs": [
        {
          "output_type": "stream",
          "name": "stdout",
          "text": [
            "1\n",
            "2\n",
            "3\n",
            "4\n",
            "6\n",
            "7\n",
            "8\n",
            "9\n",
            "10\n",
            "something else\n"
          ]
        }
      ]
    },
    {
      "cell_type": "code",
      "source": [
        "for i in range(1,11):\n",
        "  if i==5 :\n",
        "    pass  #does nothing \n",
        "  print(i)\n",
        "print(\"something else\")"
      ],
      "metadata": {
        "colab": {
          "base_uri": "https://localhost:8080/"
        },
        "id": "IiISttQ6PBjm",
        "outputId": "4642224a-1053-4501-dc4f-c3ad7ec8cf54"
      },
      "execution_count": 8,
      "outputs": [
        {
          "output_type": "stream",
          "name": "stdout",
          "text": [
            "1\n",
            "2\n",
            "3\n",
            "4\n",
            "5\n",
            "6\n",
            "7\n",
            "8\n",
            "9\n",
            "10\n",
            "something else\n"
          ]
        }
      ]
    },
    {
      "cell_type": "code",
      "source": [
        "#check a number is prime\n",
        "n=int(input(\"Enter the number to be checked: \"))\n",
        "bool=True\n",
        "for i in range(2,n):\n",
        "  if n%i == 0 :\n",
        "    bool=False\n",
        "    break\n",
        "  \n",
        "if bool:\n",
        "  print(n,'is a prime')\n",
        "else:\n",
        "  print(n,'is not a prime')"
      ],
      "metadata": {
        "colab": {
          "base_uri": "https://localhost:8080/"
        },
        "id": "2k6Vy38lPXEO",
        "outputId": "3186a0cb-2374-4f26-c593-3ace40e6f826"
      },
      "execution_count": 15,
      "outputs": [
        {
          "output_type": "stream",
          "name": "stdout",
          "text": [
            "Enter the number to be checked: 5\n",
            "5 is a prime\n"
          ]
        }
      ]
    },
    {
      "cell_type": "code",
      "source": [
        "#print the cube of a number\n",
        "\n",
        "while True:\n",
        "  value=input('Enter a number: ')\n",
        "  if value=='q':\n",
        "    print('Exit program(break statement is executed)...')\n",
        "    break\n",
        " \n",
        "  if not value.isdigit():\n",
        "    #if input is not a digit move on to next iteration\n",
        "    print(\"Enter digits only(continue statement executed)...\")\n",
        "    continue\n",
        "  value=int(value)\n",
        "  print('cube of ',value,'is ',value**3)"
      ],
      "metadata": {
        "colab": {
          "base_uri": "https://localhost:8080/"
        },
        "id": "BRTAe9urQYXv",
        "outputId": "d24d9cb6-4d6e-481d-ef08-f41e9291a501"
      },
      "execution_count": 16,
      "outputs": [
        {
          "output_type": "stream",
          "name": "stdout",
          "text": [
            "Enter a number: 5\n",
            "cube of  5 is  125\n",
            "Enter a number: 6\n",
            "cube of  6 is  216\n",
            "Enter a number: q\n",
            "Exit program(break statement is executed)...\n"
          ]
        }
      ]
    },
    {
      "cell_type": "markdown",
      "source": [
        "**FUNCTIONS:**\n",
        "\n",
        "In comouter programming, a function is known as a section of code that performs a specific task. This typically involves taking some input, manipulating the input and giving the output.\n",
        "\n",
        "Function in python is defined by 'def' statement followed by the function name and parenthesis ( {} )"
      ],
      "metadata": {
        "id": "0Ds7RnGiT5tl"
      }
    },
    {
      "cell_type": "code",
      "source": [
        "def Example():\n",
        "  print(\"good morning\")"
      ],
      "metadata": {
        "id": "j2d6mwFLUWwq"
      },
      "execution_count": 18,
      "outputs": []
    },
    {
      "cell_type": "code",
      "source": [
        "Example() #function call\n"
      ],
      "metadata": {
        "colab": {
          "base_uri": "https://localhost:8080/"
        },
        "id": "-aghy6f4UwYx",
        "outputId": "0f40abe8-2ab6-4ae7-d617-042ec442b75e"
      },
      "execution_count": 19,
      "outputs": [
        {
          "output_type": "stream",
          "name": "stdout",
          "text": [
            "good morning\n"
          ]
        }
      ]
    },
    {
      "cell_type": "code",
      "source": [
        "Example('hello')"
      ],
      "metadata": {
        "colab": {
          "base_uri": "https://localhost:8080/",
          "height": 165
        },
        "id": "6enE9PgIU2jv",
        "outputId": "8101d833-a55d-4a78-c6f3-fe9f82edc9b2"
      },
      "execution_count": 21,
      "outputs": [
        {
          "output_type": "error",
          "ename": "TypeError",
          "evalue": "ignored",
          "traceback": [
            "\u001b[0;31m---------------------------------------------------------------------------\u001b[0m",
            "\u001b[0;31mTypeError\u001b[0m                                 Traceback (most recent call last)",
            "\u001b[0;32m<ipython-input-21-1143078603f7>\u001b[0m in \u001b[0;36m<module>\u001b[0;34m\u001b[0m\n\u001b[0;32m----> 1\u001b[0;31m \u001b[0mExample\u001b[0m\u001b[0;34m(\u001b[0m\u001b[0;34m'hello'\u001b[0m\u001b[0;34m)\u001b[0m\u001b[0;34m\u001b[0m\u001b[0;34m\u001b[0m\u001b[0m\n\u001b[0m",
            "\u001b[0;31mTypeError\u001b[0m: Example() takes 0 positional arguments but 1 was given"
          ]
        }
      ]
    },
    {
      "cell_type": "code",
      "source": [
        "def SKILL_VOID(x):\n",
        "  if x=='B.TECH':\n",
        "    print(\"Hurray! \")\n",
        "  else:\n",
        "    print(\"Oh! better luck next time\")\n"
      ],
      "metadata": {
        "id": "eYxvLGc2U6iF"
      },
      "execution_count": 22,
      "outputs": []
    },
    {
      "cell_type": "code",
      "source": [
        "SKILL_VOID('B.TECH')"
      ],
      "metadata": {
        "colab": {
          "base_uri": "https://localhost:8080/"
        },
        "id": "GgOyi4HRVwLb",
        "outputId": "daf0a877-86ef-4eeb-a1bc-9d89f7238990"
      },
      "execution_count": 23,
      "outputs": [
        {
          "output_type": "stream",
          "name": "stdout",
          "text": [
            "Hurray! \n"
          ]
        }
      ]
    },
    {
      "cell_type": "code",
      "source": [
        "SKILL_VOID(7)"
      ],
      "metadata": {
        "colab": {
          "base_uri": "https://localhost:8080/"
        },
        "id": "yLaXoLztV0Td",
        "outputId": "f6947cce-c190-4dae-e253-654f21b90ef6"
      },
      "execution_count": 24,
      "outputs": [
        {
          "output_type": "stream",
          "name": "stdout",
          "text": [
            "Oh! better luck next time\n"
          ]
        }
      ]
    },
    {
      "cell_type": "code",
      "source": [
        "def Ex_2(name):\n",
        "  print('good morning', name)"
      ],
      "metadata": {
        "id": "ARJVcYofV3YY"
      },
      "execution_count": 31,
      "outputs": []
    },
    {
      "cell_type": "code",
      "source": [
        "Ex_2('john')"
      ],
      "metadata": {
        "colab": {
          "base_uri": "https://localhost:8080/"
        },
        "id": "1z52muUMWaow",
        "outputId": "5e7a2333-38c0-4a31-a0dc-948888d4da0c"
      },
      "execution_count": 32,
      "outputs": [
        {
          "output_type": "stream",
          "name": "stdout",
          "text": [
            "good morning john\n"
          ]
        }
      ]
    },
    {
      "cell_type": "code",
      "source": [
        "def ex_3(name,age):\n",
        "  print('good morning',name,'AGE: ',age)"
      ],
      "metadata": {
        "id": "ctJ_lmBIWtAX"
      },
      "execution_count": 33,
      "outputs": []
    },
    {
      "cell_type": "code",
      "source": [
        "ex_3('john',34)"
      ],
      "metadata": {
        "colab": {
          "base_uri": "https://localhost:8080/"
        },
        "id": "DQPIE6zbW2bZ",
        "outputId": "a59c578a-a664-4f7a-aab4-0c38535adc28"
      },
      "execution_count": 34,
      "outputs": [
        {
          "output_type": "stream",
          "name": "stdout",
          "text": [
            "good morning john AGE:  34\n"
          ]
        }
      ]
    },
    {
      "cell_type": "code",
      "source": [
        "def print_msg(string,count=10):\n",
        "  i=0\n",
        "  while i<count:\n",
        "    print(string)\n",
        "    i+=1\n"
      ],
      "metadata": {
        "id": "fD33iXGZW5sT"
      },
      "execution_count": 37,
      "outputs": []
    },
    {
      "cell_type": "code",
      "source": [
        "print_msg('Hiiiii')"
      ],
      "metadata": {
        "colab": {
          "base_uri": "https://localhost:8080/"
        },
        "id": "9HzdlZCTXiy_",
        "outputId": "595086e2-53f5-469a-9620-d7c0ff019d4a"
      },
      "execution_count": 38,
      "outputs": [
        {
          "output_type": "stream",
          "name": "stdout",
          "text": [
            "Hiiiii\n",
            "Hiiiii\n",
            "Hiiiii\n",
            "Hiiiii\n",
            "Hiiiii\n",
            "Hiiiii\n",
            "Hiiiii\n",
            "Hiiiii\n",
            "Hiiiii\n",
            "Hiiiii\n"
          ]
        }
      ]
    },
    {
      "cell_type": "code",
      "source": [
        "print_msg('hellu',4)"
      ],
      "metadata": {
        "colab": {
          "base_uri": "https://localhost:8080/"
        },
        "id": "eb3qjM6pX2Nr",
        "outputId": "0e998c1c-7b0b-4d13-9831-212c3e3ef4f4"
      },
      "execution_count": 39,
      "outputs": [
        {
          "output_type": "stream",
          "name": "stdout",
          "text": [
            "hellu\n",
            "hellu\n",
            "hellu\n",
            "hellu\n"
          ]
        }
      ]
    },
    {
      "cell_type": "code",
      "source": [
        "#Python program to illustrate\n",
        "# *args for variabke number if arguements\n",
        "\n",
        "def myFun(*args):\n",
        "  print(type(args))\n",
        "  for arg in args:\n",
        "    print(arg)\n",
        "\n",
        "#if star is not used, it should be given only one arguement but with * you can give any number of args\n",
        "\n",
        "myFun('hello','welcome','to','deep learning')"
      ],
      "metadata": {
        "colab": {
          "base_uri": "https://localhost:8080/"
        },
        "id": "bXB2YV56f2x4",
        "outputId": "daaa5977-5983-48c9-fbfe-eff0aab5fb3f"
      },
      "execution_count": 43,
      "outputs": [
        {
          "output_type": "stream",
          "name": "stdout",
          "text": [
            "<class 'tuple'>\n",
            "hello\n",
            "welcome\n",
            "to\n",
            "deep learning\n"
          ]
        }
      ]
    },
    {
      "cell_type": "code",
      "source": [
        "myFun() #no error"
      ],
      "metadata": {
        "colab": {
          "base_uri": "https://localhost:8080/"
        },
        "id": "YjIysi2chDec",
        "outputId": "06314e57-b14c-4b9e-e793-92978297b9db"
      },
      "execution_count": 45,
      "outputs": [
        {
          "output_type": "stream",
          "name": "stdout",
          "text": [
            "<class 'tuple'>\n"
          ]
        }
      ]
    },
    {
      "cell_type": "code",
      "source": [
        "def my_fun(x,y):\n",
        "  return x**y\n"
      ],
      "metadata": {
        "id": "xLI3x-XChPiW"
      },
      "execution_count": 48,
      "outputs": []
    },
    {
      "cell_type": "code",
      "source": [
        "my_fun(a=10,b=50,c=60)"
      ],
      "metadata": {
        "colab": {
          "base_uri": "https://localhost:8080/",
          "height": 165
        },
        "id": "NZIU_W3RhWG9",
        "outputId": "72cfea43-cbf8-41ab-8436-df294b3da9bc"
      },
      "execution_count": 49,
      "outputs": [
        {
          "output_type": "error",
          "ename": "TypeError",
          "evalue": "ignored",
          "traceback": [
            "\u001b[0;31m---------------------------------------------------------------------------\u001b[0m",
            "\u001b[0;31mTypeError\u001b[0m                                 Traceback (most recent call last)",
            "\u001b[0;32m<ipython-input-49-c79a8f97eb5d>\u001b[0m in \u001b[0;36m<module>\u001b[0;34m\u001b[0m\n\u001b[0;32m----> 1\u001b[0;31m \u001b[0mmy_fun\u001b[0m\u001b[0;34m(\u001b[0m\u001b[0ma\u001b[0m\u001b[0;34m=\u001b[0m\u001b[0;36m10\u001b[0m\u001b[0;34m,\u001b[0m\u001b[0mb\u001b[0m\u001b[0;34m=\u001b[0m\u001b[0;36m50\u001b[0m\u001b[0;34m,\u001b[0m\u001b[0mc\u001b[0m\u001b[0;34m=\u001b[0m\u001b[0;36m60\u001b[0m\u001b[0;34m)\u001b[0m\u001b[0;34m\u001b[0m\u001b[0;34m\u001b[0m\u001b[0m\n\u001b[0m",
            "\u001b[0;31mTypeError\u001b[0m: my_fun() got an unexpected keyword argument 'a'"
          ]
        }
      ]
    },
    {
      "cell_type": "code",
      "source": [
        "d={'key1':123,\n",
        "   'key2':456,\n",
        "   'key3':789}\n",
        "d"
      ],
      "metadata": {
        "colab": {
          "base_uri": "https://localhost:8080/"
        },
        "id": "r6pYW4GBhqrA",
        "outputId": "3fe42cec-7d75-4cef-8ea7-27ef3c5630e9"
      },
      "execution_count": 50,
      "outputs": [
        {
          "output_type": "execute_result",
          "data": {
            "text/plain": [
              "{'key1': 123, 'key2': 456, 'key3': 789}"
            ]
          },
          "metadata": {},
          "execution_count": 50
        }
      ]
    },
    {
      "cell_type": "code",
      "source": [
        "d.items()"
      ],
      "metadata": {
        "colab": {
          "base_uri": "https://localhost:8080/"
        },
        "id": "S09798Wph34v",
        "outputId": "eec6339f-ffac-42ed-b0cc-c7299b646bf7"
      },
      "execution_count": 51,
      "outputs": [
        {
          "output_type": "execute_result",
          "data": {
            "text/plain": [
              "dict_items([('key1', 123), ('key2', 456), ('key3', 789)])"
            ]
          },
          "metadata": {},
          "execution_count": 51
        }
      ]
    },
    {
      "cell_type": "code",
      "source": [
        "#**kwargs -------> key word arguements\n",
        "def myFun(**kwargs):\n",
        "  print(kwargs)\n",
        "  print(type(kwargs))\n",
        "  for key,value in kwargs.items():\n",
        "           print(f'key: {key} --- value : {value}')\n",
        "\n",
        "#Driver code\n",
        "myFun(first='deep',mid='learning',last='DL')"
      ],
      "metadata": {
        "colab": {
          "base_uri": "https://localhost:8080/"
        },
        "id": "5XfE9BBCh7GB",
        "outputId": "c4738069-6a41-4c42-f58f-a94838908e76"
      },
      "execution_count": 52,
      "outputs": [
        {
          "output_type": "stream",
          "name": "stdout",
          "text": [
            "{'first': 'deep', 'mid': 'learning', 'last': 'DL'}\n",
            "<class 'dict'>\n",
            "key: first --- value : deep\n",
            "key: mid --- value : learning\n",
            "key: last --- value : DL\n"
          ]
        }
      ]
    },
    {
      "cell_type": "markdown",
      "source": [],
      "metadata": {
        "id": "XK5oxMcUjLtf"
      }
    }
  ]
}